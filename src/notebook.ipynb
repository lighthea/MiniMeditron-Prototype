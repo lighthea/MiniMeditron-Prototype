{
 "cells": [
  {
   "cell_type": "code",
   "execution_count": 1,
   "metadata": {},
   "outputs": [],
   "source": [
    "import re\n",
    "import json\n",
    "import numpy as np\n",
    "import matplotlib.pyplot as plt\n",
    "from os.path import join\n",
    "from os import listdir\n",
    "from tqdm import tqdm\n",
    "import matplotlib.pyplot as plt\n",
    "from sklearn.feature_extraction.text import TfidfTransformer, CountVectorizer\n",
    "from sklearn.decomposition import PCA\n",
    "from sklearn.cluster import DBSCAN\n",
    "from random import randint"
   ]
  },
  {
   "cell_type": "code",
   "execution_count": 2,
   "metadata": {},
   "outputs": [],
   "source": [
    "def build_tfidf(guidelines: list[str], pca_component=100):\n",
    "    # Preprocess all documents (prior to building the vocabulary)\n",
    "    corpus = []\n",
    "\n",
    "    print(' - Proprocess and extract the corpus')\n",
    "    for guideline in tqdm(guidelines):\n",
    "        text = guideline[\"text\"]\n",
    "\n",
    "        # Replacing unconventional punctuation with spaces\n",
    "        text = re.sub(r'[\\(\\)\\[\\]\\,\\-\\;\\.\\!\\?”“\\\"\\']', ' ', text)\n",
    "        text = re.sub(r'[\\*+\\_\\#]+', ' ', text)\n",
    "        text = re.sub(r'\\s+', ' ', text)\n",
    "\n",
    "        # Stemming is done by sklearn\n",
    "        corpus.append(text)\n",
    "    \n",
    "    # Build the vocabulary matrix\n",
    "    print(' - Vectorize the corpus')\n",
    "    vectorizer = CountVectorizer(min_df=0.01, max_df=0.9, token_pattern=r\"(?u)\\b[a-zA-Z][a-zA-Z]+\\b\") # Must be less that 80%\n",
    "    counts = vectorizer.fit_transform(corpus).toarray()\n",
    "\n",
    "    # Learn the IDF matrix\n",
    "    print(' - Learn the IDF for each terms')\n",
    "    transformer = TfidfTransformer(use_idf=False)\n",
    "    transformer.fit(counts)\n",
    "\n",
    "    # Build the TF-IDF matrix for each sample of the corpus\n",
    "    print(' - Build the TF-IDF dense matrix')\n",
    "    tfidf = transformer.transform(counts + 1).toarray() # Smoothing of the count\n",
    "\n",
    "    # Running PCA on tf-idf matrix to select the important words\n",
    "    pca = PCA(n_components=pca_component)\n",
    "    pca.fit(tfidf)\n",
    "\n",
    "    # Finally transform the tfidf matrix into a smaller collection\n",
    "    compact_tfidf = pca.transform(tfidf)\n",
    "    return compact_tfidf, pca, transformer, vectorizer"
   ]
  },
  {
   "cell_type": "code",
   "execution_count": 7,
   "metadata": {},
   "outputs": [],
   "source": [
    "GUIDELINE_PATH = join('..', 'data', 'knowledge_database', 'guidelines', 'structured_guidelines')"
   ]
  },
  {
   "cell_type": "code",
   "execution_count": 14,
   "metadata": {},
   "outputs": [
    {
     "name": "stdout",
     "output_type": "stream",
     "text": [
      " - Retrieving guidelines\n"
     ]
    }
   ],
   "source": [
    "# Retrieve all guidelines\n",
    "print(' - Retrieving guidelines')\n",
    "guidelines = []\n",
    "for file in listdir(GUIDELINE_PATH):\n",
    "    path = join(GUIDELINE_PATH, file)\n",
    "\n",
    "    if path.endswith('.jsonl'):\n",
    "        with open(path, 'r') as f:\n",
    "            guidelines += [x for x in list(map(json.loads, f.readlines())) if 'label' in x]\n",
    "# guidelines = guidelines[:5000]"
   ]
  },
  {
   "cell_type": "code",
   "execution_count": 15,
   "metadata": {},
   "outputs": [
    {
     "data": {
      "text/plain": [
       "[]"
      ]
     },
     "execution_count": 15,
     "metadata": {},
     "output_type": "execute_result"
    }
   ],
   "source": [
    "[g['label'] for g in guidelines if 'astronomy' in g['label']]"
   ]
  },
  {
   "cell_type": "code",
   "execution_count": 17,
   "metadata": {},
   "outputs": [
    {
     "name": "stdout",
     "output_type": "stream",
     "text": [
      " - Proprocess and extract the corpus\n"
     ]
    },
    {
     "name": "stderr",
     "output_type": "stream",
     "text": [
      "  0%|          | 0/1315 [00:00<?, ?it/s]"
     ]
    },
    {
     "name": "stdout",
     "output_type": "stream",
     "text": [
      "{'label': 'Iron Deficiency Anemia in Young Children', 'Symptoms list': ['No symptoms mentioned in the given recommendation.'], 'Contextual info': {'Factors affecting diagnostic': ['The evidence is insufficient to assess the balance of benefits and harms of screening. The performance of risk assessment tools to identify children who are at increased risk for iron deficiency anemia has not been studied.']}}\n"
     ]
    },
    {
     "name": "stderr",
     "output_type": "stream",
     "text": [
      "\n"
     ]
    },
    {
     "ename": "TypeError",
     "evalue": "expected string or bytes-like object",
     "output_type": "error",
     "traceback": [
      "\u001b[0;31m---------------------------------------------------------------------------\u001b[0m",
      "\u001b[0;31mTypeError\u001b[0m                                 Traceback (most recent call last)",
      "\u001b[1;32m/root/MiniMeditron-Prototype/src/notebook.ipynb Cell 6\u001b[0m line \u001b[0;36m1\n\u001b[1;32m      <a href='vscode-notebook-cell://ssh-remote%2B127.0.0.1/root/MiniMeditron-Prototype/src/notebook.ipynb#W5sdnNjb2RlLXJlbW90ZQ%3D%3D?line=6'>7</a>\u001b[0m \u001b[39mprint\u001b[39m(text)\n\u001b[1;32m      <a href='vscode-notebook-cell://ssh-remote%2B127.0.0.1/root/MiniMeditron-Prototype/src/notebook.ipynb#W5sdnNjb2RlLXJlbW90ZQ%3D%3D?line=8'>9</a>\u001b[0m \u001b[39m# Replacing unconventional punctuation with spaces\u001b[39;00m\n\u001b[0;32m---> <a href='vscode-notebook-cell://ssh-remote%2B127.0.0.1/root/MiniMeditron-Prototype/src/notebook.ipynb#W5sdnNjb2RlLXJlbW90ZQ%3D%3D?line=9'>10</a>\u001b[0m text \u001b[39m=\u001b[39m re\u001b[39m.\u001b[39;49msub(\u001b[39mr\u001b[39;49m\u001b[39m'\u001b[39;49m\u001b[39m[\u001b[39;49m\u001b[39m\\\u001b[39;49m\u001b[39m(\u001b[39;49m\u001b[39m\\\u001b[39;49m\u001b[39m)\u001b[39;49m\u001b[39m\\\u001b[39;49m\u001b[39m[\u001b[39;49m\u001b[39m\\\u001b[39;49m\u001b[39m]\u001b[39;49m\u001b[39m\\\u001b[39;49m\u001b[39m,\u001b[39;49m\u001b[39m\\\u001b[39;49m\u001b[39m-\u001b[39;49m\u001b[39m\\\u001b[39;49m\u001b[39m;\u001b[39;49m\u001b[39m\\\u001b[39;49m\u001b[39m.\u001b[39;49m\u001b[39m\\\u001b[39;49m\u001b[39m!\u001b[39;49m\u001b[39m\\\u001b[39;49m\u001b[39m?”“\u001b[39;49m\u001b[39m\\\u001b[39;49m\u001b[39m\"\u001b[39;49m\u001b[39m\\'\u001b[39;49;00m\u001b[39m]\u001b[39;49m\u001b[39m'\u001b[39;49m, \u001b[39m'\u001b[39;49m\u001b[39m \u001b[39;49m\u001b[39m'\u001b[39;49m, text)\n\u001b[1;32m     <a href='vscode-notebook-cell://ssh-remote%2B127.0.0.1/root/MiniMeditron-Prototype/src/notebook.ipynb#W5sdnNjb2RlLXJlbW90ZQ%3D%3D?line=10'>11</a>\u001b[0m text \u001b[39m=\u001b[39m re\u001b[39m.\u001b[39msub(\u001b[39mr\u001b[39m\u001b[39m'\u001b[39m\u001b[39m[\u001b[39m\u001b[39m\\\u001b[39m\u001b[39m*+\u001b[39m\u001b[39m\\\u001b[39m\u001b[39m_\u001b[39m\u001b[39m\\\u001b[39m\u001b[39m#]+\u001b[39m\u001b[39m'\u001b[39m, \u001b[39m'\u001b[39m\u001b[39m \u001b[39m\u001b[39m'\u001b[39m, text)\n\u001b[1;32m     <a href='vscode-notebook-cell://ssh-remote%2B127.0.0.1/root/MiniMeditron-Prototype/src/notebook.ipynb#W5sdnNjb2RlLXJlbW90ZQ%3D%3D?line=11'>12</a>\u001b[0m text \u001b[39m=\u001b[39m re\u001b[39m.\u001b[39msub(\u001b[39mr\u001b[39m\u001b[39m'\u001b[39m\u001b[39m\\\u001b[39m\u001b[39ms+\u001b[39m\u001b[39m'\u001b[39m, \u001b[39m'\u001b[39m\u001b[39m \u001b[39m\u001b[39m'\u001b[39m, text)\n",
      "File \u001b[0;32m/opt/conda/lib/python3.10/re.py:209\u001b[0m, in \u001b[0;36msub\u001b[0;34m(pattern, repl, string, count, flags)\u001b[0m\n\u001b[1;32m    202\u001b[0m \u001b[39mdef\u001b[39;00m \u001b[39msub\u001b[39m(pattern, repl, string, count\u001b[39m=\u001b[39m\u001b[39m0\u001b[39m, flags\u001b[39m=\u001b[39m\u001b[39m0\u001b[39m):\n\u001b[1;32m    203\u001b[0m \u001b[39m    \u001b[39m\u001b[39m\"\"\"Return the string obtained by replacing the leftmost\u001b[39;00m\n\u001b[1;32m    204\u001b[0m \u001b[39m    non-overlapping occurrences of the pattern in string by the\u001b[39;00m\n\u001b[1;32m    205\u001b[0m \u001b[39m    replacement repl.  repl can be either a string or a callable;\u001b[39;00m\n\u001b[1;32m    206\u001b[0m \u001b[39m    if a string, backslash escapes in it are processed.  If it is\u001b[39;00m\n\u001b[1;32m    207\u001b[0m \u001b[39m    a callable, it's passed the Match object and must return\u001b[39;00m\n\u001b[1;32m    208\u001b[0m \u001b[39m    a replacement string to be used.\"\"\"\u001b[39;00m\n\u001b[0;32m--> 209\u001b[0m     \u001b[39mreturn\u001b[39;00m _compile(pattern, flags)\u001b[39m.\u001b[39;49msub(repl, string, count)\n",
      "\u001b[0;31mTypeError\u001b[0m: expected string or bytes-like object"
     ]
    }
   ],
   "source": [
    "# Preprocess all documents (prior to building the vocabulary)\n",
    "corpus = []\n",
    "\n",
    "print(' - Proprocess and extract the corpus')\n",
    "for guideline in tqdm(guidelines):\n",
    "    text = guideline[\"structure\"]\n",
    "\n",
    "    # Replacing unconventional punctuation with spaces\n",
    "    text = re.sub(r'[\\(\\)\\[\\]\\,\\-\\;\\.\\!\\?”“\\\"\\']', ' ', text)\n",
    "    text = re.sub(r'[\\*+\\_\\#]+', ' ', text)\n",
    "    text = re.sub(r'\\s+', ' ', text)\n",
    "\n",
    "    # Stemming is done by sklearn\n",
    "    corpus.append(text)"
   ]
  },
  {
   "cell_type": "code",
   "execution_count": 23,
   "metadata": {},
   "outputs": [
    {
     "data": {
      "text/plain": [
       "['tricyclic', 'degenerative', 'plexus', 'leukotriene', 'contractile']"
      ]
     },
     "execution_count": 23,
     "metadata": {},
     "output_type": "execute_result"
    }
   ],
   "source": [
    "# Load dictionary from the file\n",
    "with open(\"medic_dictionary.json\", \"r\") as f:\n",
    "    dictionary = json.load(f)\n",
    "\n",
    "terms = list(set(x for x in ' '.join([x.replace('-', ' ').lower() for x in dictionary.keys()]).split(' ') if len(x) > 0))\n",
    "terms[:5]"
   ]
  },
  {
   "cell_type": "code",
   "execution_count": 24,
   "metadata": {},
   "outputs": [
    {
     "name": "stdout",
     "output_type": "stream",
     "text": [
      " - Vectorize the corpus\n",
      "(42336, 2219)\n"
     ]
    }
   ],
   "source": [
    "# Build the vocabulary matrix\n",
    "print(' - Vectorize the corpus')\n",
    "vectorizer = CountVectorizer(token_pattern=r\"(?u)\\b[a-zA-Z][a-zA-Z]+\\b\", vocabulary=terms) # Must be less that 80%\n",
    "counts = vectorizer.fit_transform(corpus).toarray()\n",
    "print(counts.shape)"
   ]
  },
  {
   "cell_type": "code",
   "execution_count": 28,
   "metadata": {},
   "outputs": [
    {
     "name": "stdout",
     "output_type": "stream",
     "text": [
      " - Build the TF-IDF dense matrix\n"
     ]
    }
   ],
   "source": [
    "transformer = TfidfTransformer(use_idf=False)\n",
    "transformer.fit(counts)\n",
    "\n",
    "# Build the TF-IDF matrix for each sample of the corpus\n",
    "print(' - Build the TF-IDF dense matrix')\n",
    "tfidf = transformer.transform(counts + 1).toarray() # Smoothing of the count"
   ]
  },
  {
   "cell_type": "code",
   "execution_count": 59,
   "metadata": {},
   "outputs": [
    {
     "name": "stdout",
     "output_type": "stream",
     "text": [
      "N1: Atomic radiation astronomy\n",
      "N2: Neutrino radiation astronomy\n",
      "score: 0.016823362435065253\n",
      "#update: 13\n"
     ]
    }
   ],
   "source": [
    "def distance(d1, d2):\n",
    "    a = np.linalg.norm(tfidf[d1, :])\n",
    "    b = np.linalg.norm(tfidf[d2, :])\n",
    "    return np.arccos(np.dot(a, b))\n",
    "\n",
    "def distance2(d1, d2):\n",
    "    a = tfidf[d1, :]\n",
    "    b = tfidf[d2, :]\n",
    "    return np.sum((a - b)**2)\n",
    "\n",
    "\n",
    "N1 = randint(0, compact_idf.shape[0] - 1)\n",
    "bN2 = None\n",
    "bScore = 0\n",
    "N = 0\n",
    "\n",
    "for i in range(10000):\n",
    "    N2 = randint(0, compact_idf.shape[0] - 1)\n",
    "    if N2 != N1:\n",
    "        nScore = distance2(N1, N2)\n",
    "        if bN2 is None or nScore < bScore:\n",
    "            bScore = nScore\n",
    "            bN2 = N2\n",
    "            N += 1\n",
    "\n",
    "print('N1: {}'.format(guidelines[N1]['title']))\n",
    "print('N2: {}'.format(guidelines[bN2]['title']))\n",
    "print('score: {}'.format(bScore))\n",
    "print('#update: {}'.format(N))"
   ]
  },
  {
   "cell_type": "code",
   "execution_count": 39,
   "metadata": {},
   "outputs": [
    {
     "ename": "NameError",
     "evalue": "name 'Y' is not defined",
     "output_type": "error",
     "traceback": [
      "\u001b[0;31m---------------------------------------------------------------------------\u001b[0m",
      "\u001b[0;31mNameError\u001b[0m                                 Traceback (most recent call last)",
      "\u001b[1;32m/root/MiniMeditron-Prototype/src/notebook.ipynb Cell 10\u001b[0m line \u001b[0;36m1\n\u001b[0;32m----> <a href='vscode-notebook-cell://ssh-remote%2B127.0.0.1/root/MiniMeditron-Prototype/src/notebook.ipynb#X13sdnNjb2RlLXJlbW90ZQ%3D%3D?line=0'>1</a>\u001b[0m sort \u001b[39m=\u001b[39m np\u001b[39m.\u001b[39margsort(\u001b[39m-\u001b[39mnp\u001b[39m.\u001b[39mabs(Y), axis\u001b[39m=\u001b[39m\u001b[39m1\u001b[39m)\n\u001b[1;32m      <a href='vscode-notebook-cell://ssh-remote%2B127.0.0.1/root/MiniMeditron-Prototype/src/notebook.ipynb#X13sdnNjb2RlLXJlbW90ZQ%3D%3D?line=1'>2</a>\u001b[0m sort \u001b[39m=\u001b[39m sort[:, :\u001b[39m5\u001b[39m]\n\u001b[1;32m      <a href='vscode-notebook-cell://ssh-remote%2B127.0.0.1/root/MiniMeditron-Prototype/src/notebook.ipynb#X13sdnNjb2RlLXJlbW90ZQ%3D%3D?line=3'>4</a>\u001b[0m \u001b[39mfor\u001b[39;00m i \u001b[39min\u001b[39;00m \u001b[39mrange\u001b[39m(\u001b[39m5\u001b[39m):\n",
      "\u001b[0;31mNameError\u001b[0m: name 'Y' is not defined"
     ]
    }
   ],
   "source": [
    "sort = np.argsort(-np.abs(Y), axis=1)\n",
    "sort = sort[:, :5]\n",
    "\n",
    "for i in range(5):\n",
    "    print('============================== FEATURE {} =============================='.format(i))\n",
    "    M = sort[i, :]\n",
    "    yy = Y[i, M]\n",
    "    names = vectorizer.get_feature_names_out()[M]\n",
    "    print('\\n'.join('{:<30}: {}'.format(name, p) for name, p in zip(names, yy)))\n",
    "\n",
    "    MID = np.argsort(-np.abs(compact_idf[:, i]))[:5]\n",
    "    print('; '.join([guidelines[x]['title'] for x in MID]))"
   ]
  },
  {
   "cell_type": "code",
   "execution_count": 209,
   "metadata": {},
   "outputs": [
    {
     "data": {
      "text/plain": [
       "<matplotlib.collections.PathCollection at 0x7f510774df30>"
      ]
     },
     "execution_count": 209,
     "metadata": {},
     "output_type": "execute_result"
    },
    {
     "data": {
      "image/png": "[encoded data removed]",
      "text/plain": [
       "<Figure size 640x480 with 1 Axes>"
      ]
     },
     "metadata": {},
     "output_type": "display_data"
    }
   ],
   "source": [
    "A, B = compact_idf.T[2, :], compact_idf.T[3, :]\n",
    "plt.scatter(A, B)"
   ]
  },
  {
   "cell_type": "code",
   "execution_count": null,
   "metadata": {},
   "outputs": [],
   "source": []
  }
 ],
 "metadata": {
  "kernelspec": {
   "display_name": "Python 3",
   "language": "python",
   "name": "python3"
  },
  "language_info": {
   "codemirror_mode": {
    "name": "ipython",
    "version": 3
   },
   "file_extension": ".py",
   "mimetype": "text/x-python",
   "name": "python",
   "nbconvert_exporter": "python",
   "pygments_lexer": "ipython3",
   "version": "3.10.9"
  }
 },
 "nbformat": 4,
 "nbformat_minor": 2
}
