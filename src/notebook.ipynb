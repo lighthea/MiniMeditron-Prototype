{
 "cells": [
  {
   "cell_type": "code",
   "execution_count": 91,
   "metadata": {},
   "outputs": [],
   "source": [
    "import re\n",
    "import json\n",
    "import numpy as np\n",
    "import matplotlib.pyplot as plt\n",
    "from os.path import join\n",
    "from os import listdir\n",
    "from tqdm import tqdm\n",
    "import matplotlib.pyplot as plt\n",
    "from sklearn.feature_extraction.text import TfidfTransformer, CountVectorizer\n",
    "from sklearn.decomposition import PCA\n",
    "from sklearn.cluster import DBSCAN"
   ]
  },
  {
   "cell_type": "code",
   "execution_count": 92,
   "metadata": {},
   "outputs": [],
   "source": [
    "def build_tfidf(guidelines: list[str], pca_component=100):\n",
    "    # Preprocess all documents (prior to building the vocabulary)\n",
    "    corpus = []\n",
    "\n",
    "    print(' - Proprocess and extract the corpus')\n",
    "    for guideline in tqdm(guidelines):\n",
    "        text = guideline[\"text\"]\n",
    "\n",
    "        # Replacing unconventional punctuation with spaces\n",
    "        text = re.sub(r'[\\(\\)\\[\\]\\,\\-\\;\\.\\!\\?”“\\\"\\']', ' ', text)\n",
    "        text = re.sub(r'[\\*+\\_\\#]+', ' ', text)\n",
    "        text = re.sub(r'\\s+', ' ', text)\n",
    "\n",
    "        # Stemming is done by sklearn\n",
    "        corpus.append(text)\n",
    "    \n",
    "    # Build the vocabulary matrix\n",
    "    print(' - Vectorize the corpus')\n",
    "    vectorizer = CountVectorizer(min_df=3) # Must be less that 80%\n",
    "    counts = vectorizer.fit_transform(corpus).toarray()\n",
    "\n",
    "    # Learn the IDF matrix\n",
    "    print(' - Learn the IDF for each terms')\n",
    "    transformer = TfidfTransformer(smooth_idf=True)\n",
    "    transformer.fit(counts)\n",
    "\n",
    "    # Build the TF-IDF matrix for each sample of the corpus\n",
    "    print(' - Build the TF-IDF dense matrix')\n",
    "    tfidf = transformer.transform(counts + 1).toarray() # Smoothing of the count\n",
    "\n",
    "    # Running PCA on tf-idf matrix to select the important words\n",
    "    pca = PCA(n_components=pca_component)\n",
    "    pca.fit(tfidf)\n",
    "\n",
    "    # Finally transform the tfidf matrix into a smaller collection\n",
    "    compact_tfidf = pca.transform(tfidf)\n",
    "    return compact_tfidf, pca, transformer, vectorizer"
   ]
  },
  {
   "cell_type": "code",
   "execution_count": 93,
   "metadata": {},
   "outputs": [],
   "source": [
    "GUIDELINE_PATH = join('..', 'Guidelines', 'meditron-guidelines', 'processed')"
   ]
  },
  {
   "cell_type": "code",
   "execution_count": 94,
   "metadata": {},
   "outputs": [
    {
     "name": "stdout",
     "output_type": "stream",
     "text": [
      " - Retrieving guidelines\n"
     ]
    }
   ],
   "source": [
    "# Retrieve all guidelines\n",
    "print(' - Retrieving guidelines')\n",
    "guidelines = []\n",
    "for file in listdir(GUIDELINE_PATH):\n",
    "    path = join(GUIDELINE_PATH, file)\n",
    "\n",
    "    if path.endswith('.jsonl'):\n",
    "        with open(path, 'r') as f:\n",
    "            guidelines += [x for x in list(map(json.loads, f.readlines())) if 'title' in x]\n",
    "# guidelines = guidelines[:5000]"
   ]
  },
  {
   "cell_type": "code",
   "execution_count": null,
   "metadata": {},
   "outputs": [
    {
     "name": "stdout",
     "output_type": "stream",
     "text": [
      " - Proprocess and extract the corpus\n"
     ]
    },
    {
     "name": "stderr",
     "output_type": "stream",
     "text": [
      "100%|██████████| 42336/42336 [00:14<00:00, 2872.33it/s]\n"
     ]
    },
    {
     "name": "stdout",
     "output_type": "stream",
     "text": [
      " - Vectorize the corpus\n",
      " - Learn the IDF for each terms\n"
     ]
    },
    {
     "ename": "",
     "evalue": "",
     "output_type": "error",
     "traceback": [
      "\u001b[1;31mThe Kernel crashed while executing code in the the current cell or a previous cell. Please review the code in the cell(s) to identify a possible cause of the failure. Click <a href='https://aka.ms/vscodeJupyterKernelCrash'>here</a> for more info. View Jupyter <a href='command:jupyter.viewOutput'>log</a> for further details."
     ]
    }
   ],
   "source": [
    "# Preprocess all texture (prior to building the vocabulary)\n",
    "compact_idf, pca, transformer, vectorizer = build_tfidf(guidelines, pca_component=2)"
   ]
  },
  {
   "cell_type": "code",
   "execution_count": 78,
   "metadata": {},
   "outputs": [],
   "source": [
    "# Transform pca invert\n",
    "X = np.eye(compact_idf.shape[1])\n",
    "Y = pca.inverse_transform(X)"
   ]
  },
  {
   "cell_type": "code",
   "execution_count": 88,
   "metadata": {},
   "outputs": [
    {
     "name": "stdout",
     "output_type": "stream",
     "text": [
      "============================== FEATURE 0 ==============================\n",
      "mg                            : 0.20471821274924654\n",
      "iv                            : 0.1420138184284753\n",
      "kg                            : 0.12283327842322293\n",
      "day                           : 0.12094937554799991\n",
      "infections                    : 0.0970942058690086\n",
      "vaccine                       : 0.09664462542649324\n",
      "orally                        : 0.09652423018086576\n",
      "every                         : 0.09011815890789793\n",
      "hours                         : 0.0856110420058199\n",
      "treatment                     : 0.08444272352692175\n",
      "============================== FEATURE 1 ==============================\n",
      "mg                            : -0.4578849138558035\n",
      "vaccine                       : 0.40062505186608993\n",
      "orally                        : -0.21176427055488445\n",
      "day                           : -0.17143953518929672\n",
      "influenza                     : 0.14509068980821965\n",
      "iv                            : -0.14064743778327235\n",
      "vaccination                   : 0.13725353452701664\n",
      "vaccines                      : 0.13091881447520753\n",
      "immunization                  : 0.12841758612413792\n",
      "kg                            : -0.12156755568197021\n"
     ]
    }
   ],
   "source": [
    "sort = np.argsort(-np.abs(Y), axis=1)\n",
    "sort = sort[:, :10]\n",
    "\n",
    "for i in range(2):\n",
    "    print('============================== FEATURE {} =============================='.format(i))\n",
    "    M = sort[i, :]\n",
    "    yy = Y[i, M]\n",
    "    names = vectorizer.get_feature_names_out()[M]\n",
    "    print('\\n'.join('{:<30}: {}'.format(name, p) for name, p in zip(names, yy)))"
   ]
  },
  {
   "cell_type": "code",
   "execution_count": 87,
   "metadata": {},
   "outputs": [
    {
     "data": {
      "text/plain": [
       "<matplotlib.collections.PathCollection at 0x28e90509090>"
      ]
     },
     "execution_count": 87,
     "metadata": {},
     "output_type": "execute_result"
    },
    {
     "data": {
      "image/png": "[encoded data removed]",
      "text/plain": [
       "<Figure size 640x480 with 1 Axes>"
      ]
     },
     "metadata": {},
     "output_type": "display_data"
    }
   ],
   "source": [
    "A, B = compact_idf.T\n",
    "plt.scatter(A, B)"
   ]
  }
 ],
 "metadata": {
  "kernelspec": {
   "display_name": "Python 3",
   "language": "python",
   "name": "python3"
  },
  "language_info": {
   "codemirror_mode": {
    "name": "ipython",
    "version": 3
   },
   "file_extension": ".py",
   "mimetype": "text/x-python",
   "name": "python",
   "nbconvert_exporter": "python",
   "pygments_lexer": "ipython3",
   "version": "3.11.5"
  }
 },
 "nbformat": 4,
 "nbformat_minor": 2
}
