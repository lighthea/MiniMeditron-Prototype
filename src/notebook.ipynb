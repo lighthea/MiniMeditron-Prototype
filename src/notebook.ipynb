{
 "cells": [
  {
   "cell_type": "code",
   "execution_count": 70,
   "metadata": {},
   "outputs": [],
   "source": [
    "import re\n",
    "import json\n",
    "import numpy as np\n",
    "import matplotlib.pyplot as plt\n",
    "from os.path import join\n",
    "from os import listdir\n",
    "from tqdm import tqdm\n",
    "import matplotlib.pyplot as plt\n",
    "from sklearn.feature_extraction.text import TfidfTransformer, CountVectorizer\n",
    "from sklearn.decomposition import PCA\n",
    "from sklearn.cluster import DBSCAN\n",
    "from random import randint"
   ]
  },
  {
   "cell_type": "code",
   "execution_count": 143,
   "metadata": {},
   "outputs": [],
   "source": [
    "def build_tfidf(guidelines: list[str], pca_component=100):\n",
    "    # Preprocess all documents (prior to building the vocabulary)\n",
    "    corpus = []\n",
    "\n",
    "    print(' - Proprocess and extract the corpus')\n",
    "    for guideline in tqdm(guidelines):\n",
    "        text = guideline[\"text\"]\n",
    "\n",
    "        # Replacing unconventional punctuation with spaces\n",
    "        text = re.sub(r'[\\(\\)\\[\\]\\,\\-\\;\\.\\!\\?”“\\\"\\']', ' ', text)\n",
    "        text = re.sub(r'[\\*+\\_\\#]+', ' ', text)\n",
    "        text = re.sub(r'\\s+', ' ', text)\n",
    "\n",
    "        # Stemming is done by sklearn\n",
    "        corpus.append(text)\n",
    "    \n",
    "    # Build the vocabulary matrix\n",
    "    print(' - Vectorize the corpus')\n",
    "    vectorizer = CountVectorizer(min_df=0.01, max_df=0.9, token_pattern=r\"(?u)\\b[a-zA-Z][a-zA-Z]+\\b\") # Must be less that 80%\n",
    "    counts = vectorizer.fit_transform(corpus).toarray()\n",
    "\n",
    "    # Learn the IDF matrix\n",
    "    print(' - Learn the IDF for each terms')\n",
    "    transformer = TfidfTransformer(use_idf=False)\n",
    "    transformer.fit(counts)\n",
    "\n",
    "    # Build the TF-IDF matrix for each sample of the corpus\n",
    "    print(' - Build the TF-IDF dense matrix')\n",
    "    tfidf = transformer.transform(counts + 1).toarray() # Smoothing of the count\n",
    "\n",
    "    # Running PCA on tf-idf matrix to select the important words\n",
    "    pca = PCA(n_components=pca_component)\n",
    "    pca.fit(tfidf)\n",
    "\n",
    "    # Finally transform the tfidf matrix into a smaller collection\n",
    "    compact_tfidf = pca.transform(tfidf)\n",
    "    return compact_tfidf, pca, transformer, vectorizer"
   ]
  },
  {
   "cell_type": "code",
   "execution_count": 144,
   "metadata": {},
   "outputs": [],
   "source": [
    "GUIDELINE_PATH = join('..', 'Guidelines', 'meditron-guidelines', 'processed')"
   ]
  },
  {
   "cell_type": "code",
   "execution_count": 145,
   "metadata": {},
   "outputs": [
    {
     "name": "stdout",
     "output_type": "stream",
     "text": [
      " - Retrieving guidelines\n"
     ]
    }
   ],
   "source": [
    "# Retrieve all guidelines\n",
    "print(' - Retrieving guidelines')\n",
    "guidelines = []\n",
    "for file in listdir(GUIDELINE_PATH):\n",
    "    path = join(GUIDELINE_PATH, file)\n",
    "\n",
    "    if path.endswith('.jsonl'):\n",
    "        with open(path, 'r') as f:\n",
    "            guidelines += [x for x in list(map(json.loads, f.readlines())) if 'title' in x]\n",
    "# guidelines = guidelines[:5000]"
   ]
  },
  {
   "cell_type": "code",
   "execution_count": 146,
   "metadata": {},
   "outputs": [
    {
     "name": "stdout",
     "output_type": "stream",
     "text": [
      " - Proprocess and extract the corpus\n"
     ]
    },
    {
     "name": "stderr",
     "output_type": "stream",
     "text": [
      "100%|██████████| 42336/42336 [00:19<00:00, 2183.83it/s]\n"
     ]
    }
   ],
   "source": [
    "# Preprocess all documents (prior to building the vocabulary)\n",
    "corpus = []\n",
    "\n",
    "print(' - Proprocess and extract the corpus')\n",
    "for guideline in tqdm(guidelines):\n",
    "    text = guideline[\"text\"]\n",
    "\n",
    "    # Replacing unconventional punctuation with spaces\n",
    "    text = re.sub(r'[\\(\\)\\[\\]\\,\\-\\;\\.\\!\\?”“\\\"\\']', ' ', text)\n",
    "    text = re.sub(r'[\\*+\\_\\#]+', ' ', text)\n",
    "    text = re.sub(r'\\s+', ' ', text)\n",
    "\n",
    "    # Stemming is done by sklearn\n",
    "    corpus.append(text)"
   ]
  },
  {
   "cell_type": "code",
   "execution_count": 23,
   "metadata": {},
   "outputs": [
    {
     "name": "stdout",
     "output_type": "stream",
     "text": [
      " - Vectorize the corpus\n",
      "(42336, 5181)\n"
     ]
    }
   ],
   "source": [
    "# Build the vocabulary matrix\n",
    "print(' - Vectorize the corpus')\n",
    "vectorizer = CountVectorizer(min_df=0.01, max_df=0.9, token_pattern=r\"(?u)\\b[a-zA-Z][a-zA-Z]+\\b\") # Must be less that 80%\n",
    "counts = vectorizer.fit_transform(corpus).toarray()\n",
    "print(counts.shape)"
   ]
  },
  {
   "cell_type": "code",
   "execution_count": 24,
   "metadata": {},
   "outputs": [
    {
     "data": {
      "image/png": "[encoded data removed]",
      "text/plain": [
       "<Figure size 640x480 with 1 Axes>"
      ]
     },
     "metadata": {},
     "output_type": "display_data"
    }
   ],
   "source": [
    "plt.hist(np.mean(counts >= 1, axis=0), bins=1000)\n",
    "plt.xscale('log')\n",
    "plt.show()"
   ]
  },
  {
   "cell_type": "code",
   "execution_count": 163,
   "metadata": {},
   "outputs": [
    {
     "name": "stdout",
     "output_type": "stream",
     "text": [
      " - Proprocess and extract the corpus\n"
     ]
    },
    {
     "name": "stderr",
     "output_type": "stream",
     "text": [
      "100%|██████████| 42336/42336 [00:18<00:00, 2245.29it/s]\n"
     ]
    },
    {
     "name": "stdout",
     "output_type": "stream",
     "text": [
      " - Vectorize the corpus\n",
      " - Learn the IDF for each terms\n",
      " - Build the TF-IDF dense matrix\n"
     ]
    }
   ],
   "source": [
    "# Preprocess all texture (prior to building the vocabulary)\n",
    "compact_idf, pca, transformer, vectorizer = build_tfidf(guidelines, pca_component=30)"
   ]
  },
  {
   "cell_type": "code",
   "execution_count": 148,
   "metadata": {},
   "outputs": [],
   "source": [
    "# Transform pca invert\n",
    "X = np.eye(compact_idf.shape[1])\n",
    "Y = pca.inverse_transform(X)"
   ]
  },
  {
   "cell_type": "code",
   "execution_count": 208,
   "metadata": {},
   "outputs": [
    {
     "name": "stdout",
     "output_type": "stream",
     "text": [
      "N1: Icodextrin\n",
      "N2: Benfotiamine\n",
      "score: 0.0065913504787726155\n",
      "#update: 12\n"
     ]
    }
   ],
   "source": [
    "def distance(d1, d2):\n",
    "    a = np.linalg.norm(compact_idf[d1, :])\n",
    "    b = np.linalg.norm(compact_idf[d2, :])\n",
    "    return np.arccos(np.dot(a, b))\n",
    "\n",
    "def distance2(d1, d2):\n",
    "    a = compact_idf[d1, :]\n",
    "    b = compact_idf[d2, :]\n",
    "    return np.sum((a - b)**2)\n",
    "\n",
    "\n",
    "N1 = randint(0, compact_idf.shape[0] - 1)\n",
    "bN2 = None\n",
    "bScore = 0\n",
    "N = 0\n",
    "\n",
    "for i in range(10000):\n",
    "    N2 = randint(0, compact_idf.shape[0] - 1)\n",
    "    if N2 != N1:\n",
    "        nScore = distance2(N1, N2)\n",
    "        if bN2 is None or nScore < bScore:\n",
    "            bScore = nScore\n",
    "            bN2 = N2\n",
    "            N += 1\n",
    "\n",
    "print('N1: {}'.format(guidelines[N1]['title']))\n",
    "print('N2: {}'.format(guidelines[bN2]['title']))\n",
    "print('score: {}'.format(bScore))\n",
    "print('#update: {}'.format(N))"
   ]
  },
  {
   "cell_type": "code",
   "execution_count": 164,
   "metadata": {},
   "outputs": [
    {
     "name": "stdout",
     "output_type": "stream",
     "text": [
      "============================== FEATURE 0 ==============================\n",
      "with                          : 0.33440280285993423\n",
      "for                           : 0.32210835287563516\n",
      "or                            : 0.3114318021972206\n",
      "be                            : 0.22021235097119232\n",
      "that                          : 0.20263940178902426\n",
      "2016 Infectious Diseases Society of America (IDSA) Clinical Practice Guideline for the Treatment of Coccidioidomycosis; Diagnosis and Treatment of Leishmaniasis: Clinical Practice Guidelines by the Infectious Diseases Society of America (IDSA) and the American Society of Tropical Medicine and Hygiene (ASTMH); Clinical Practice Guidelines for Clostridium difficile Infection in Adults and Children: 2017 Update by the Infectious Diseases Society of America (IDSA) and Society for Healthcare Epidemiology of America (SHEA); Practice Guidelines for the Diagnosis and Management of Aspergillosis: 2016 Update by the Infectious Diseases Society of America; Fluoxetine\n",
      "============================== FEATURE 1 ==============================\n",
      "patients                      : 0.4011831483412489\n",
      "mg                            : 0.34639965522809824\n",
      "dose                          : 0.29271820424994394\n",
      "with                          : 0.24011546313313714\n",
      "should                        : 0.20466335534807184\n",
      "Chlorpromazine Dosage Guide + Max Dose, Adjustments; Simvastatin / Sitagliptin Dosage Guide + Max Dose, Adjustments; Prochlorperazine Dosage Guide + Max Dose, Adjustments; Ranitidine Dosage Guide + Max Dose, Adjustments; Deferasirox\n",
      "============================== FEATURE 2 ==============================\n",
      "your                          : 0.5336079896252268\n",
      "or                            : 0.4379276474707247\n",
      "you                           : 0.41212648479512043\n",
      "if                            : 0.23739707880220026\n",
      "doctor                        : 0.1983476732996923\n",
      "Gatifloxacin Injection (patient information); Ciprofloxacin hydrochloride (patient information); Tranylcypromine (patient information); Oxycodone (patient information); Bupropion (patient information)\n",
      "============================== FEATURE 3 ==============================\n",
      "be                            : -0.26612762989514427\n",
      "at                            : 0.2483120592244346\n",
      "are                           : -0.22782958109323936\n",
      "as                            : -0.19467942751557626\n",
      "for                           : 0.15345833129591696\n",
      "Hsf1p gene transcriptions; Downstream promoter element gene transcriptions; GGC triplet gene transcriptions; Downstream core element gene transcriptions; H box gene transcriptions\n",
      "============================== FEATURE 4 ==============================\n",
      "for                           : 0.3286841224646463\n",
      "be                            : 0.3167872868918934\n",
      "mg                            : 0.27574375009213026\n",
      "dose                          : 0.2744793806023659\n",
      "patients                      : -0.22284638727543465\n",
      "Sulfamethoxazole / Trimethoprim Dosage Guide + Max Dose, Adjustments; Methylprednisolone Dosage Guide + Max Dose, Adjustments; Metronidazole Dosage Guide + Max Dose, Adjustments; Dexamethasone Dosage Guide + Max Dose, Adjustments; Azithromycin Dosage Guide + Max Dose, Adjustments\n"
     ]
    }
   ],
   "source": [
    "sort = np.argsort(-np.abs(Y), axis=1)\n",
    "sort = sort[:, :5]\n",
    "\n",
    "for i in range(5):\n",
    "    print('============================== FEATURE {} =============================='.format(i))\n",
    "    M = sort[i, :]\n",
    "    yy = Y[i, M]\n",
    "    names = vectorizer.get_feature_names_out()[M]\n",
    "    print('\\n'.join('{:<30}: {}'.format(name, p) for name, p in zip(names, yy)))\n",
    "\n",
    "    MID = np.argsort(-np.abs(compact_idf[:, i]))[:5]\n",
    "    print('; '.join([guidelines[x]['title'] for x in MID]))"
   ]
  },
  {
   "cell_type": "code",
   "execution_count": 209,
   "metadata": {},
   "outputs": [
    {
     "data": {
      "text/plain": [
       "<matplotlib.collections.PathCollection at 0x7f510774df30>"
      ]
     },
     "execution_count": 209,
     "metadata": {},
     "output_type": "execute_result"
    },
    {
     "data": {
      "image/png": "[encoded data removed]",
      "text/plain": [
       "<Figure size 640x480 with 1 Axes>"
      ]
     },
     "metadata": {},
     "output_type": "display_data"
    }
   ],
   "source": [
    "A, B = compact_idf.T[2, :], compact_idf.T[3, :]\n",
    "plt.scatter(A, B)"
   ]
  },
  {
   "cell_type": "code",
   "execution_count": null,
   "metadata": {},
   "outputs": [],
   "source": []
  }
 ],
 "metadata": {
  "kernelspec": {
   "display_name": "Python 3",
   "language": "python",
   "name": "python3"
  },
  "language_info": {
   "codemirror_mode": {
    "name": "ipython",
    "version": 3
   },
   "file_extension": ".py",
   "mimetype": "text/x-python",
   "name": "python",
   "nbconvert_exporter": "python",
   "pygments_lexer": "ipython3",
   "version": "3.10.9"
  }
 },
 "nbformat": 4,
 "nbformat_minor": 2
}
