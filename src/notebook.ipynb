{
 "cells": [
  {
   "cell_type": "code",
   "execution_count": 27,
   "metadata": {},
   "outputs": [],
   "source": [
    "import re\n",
    "import json\n",
    "import numpy as np\n",
    "import matplotlib.pyplot as plt\n",
    "from os.path import join\n",
    "from os import listdir\n",
    "from tqdm import tqdm\n",
    "import matplotlib.pyplot as plt\n",
    "from sklearn.feature_extraction.text import TfidfTransformer, CountVectorizer\n",
    "from sklearn.decomposition import PCA\n",
    "from sklearn.cluster import DBSCAN"
   ]
  },
  {
   "cell_type": "code",
   "execution_count": 28,
   "metadata": {},
   "outputs": [],
   "source": [
    "def build_tfidf(guidelines: list[str], pca_component=100):\n",
    "    # Preprocess all documents (prior to building the vocabulary)\n",
    "    corpus = []\n",
    "\n",
    "    print(' - Proprocess and extract the corpus')\n",
    "    for guideline in tqdm(guidelines):\n",
    "        text = guideline[\"text\"]\n",
    "\n",
    "        # Replacing unconventional punctuation with spaces\n",
    "        text = re.sub(r'[\\(\\)\\[\\]\\,\\-\\;\\.\\!\\?”“\\\"\\']', ' ', text)\n",
    "        text = re.sub(r'[\\*+\\_\\#]+', ' ', text)\n",
    "        text = re.sub(r'\\s+', ' ', text)\n",
    "\n",
    "        # Stemming is done by sklearn\n",
    "        corpus.append(text)\n",
    "    \n",
    "    # Build the vocabulary matrix\n",
    "    print(' - Vectorize the corpus')\n",
    "    vectorizer = CountVectorizer(min_df=0.01, max_df=0.9, token_pattern=r\"(?u)\\b[a-zA-Z][a-zA-Z]+\\b\") # Must be less that 80%\n",
    "    counts = vectorizer.fit_transform(corpus).toarray()\n",
    "\n",
    "    # Learn the IDF matrix\n",
    "    print(' - Learn the IDF for each terms')\n",
    "    transformer = TfidfTransformer(smooth_idf=True)\n",
    "    transformer.fit(counts)\n",
    "\n",
    "    # Build the TF-IDF matrix for each sample of the corpus\n",
    "    print(' - Build the TF-IDF dense matrix')\n",
    "    tfidf = transformer.transform(counts + 1).toarray() # Smoothing of the count\n",
    "\n",
    "    # Running PCA on tf-idf matrix to select the important words\n",
    "    pca = PCA(n_components=pca_component)\n",
    "    pca.fit(tfidf)\n",
    "\n",
    "    # Finally transform the tfidf matrix into a smaller collection\n",
    "    compact_tfidf = pca.transform(tfidf)\n",
    "    return compact_tfidf, pca, transformer, vectorizer"
   ]
  },
  {
   "cell_type": "code",
   "execution_count": 29,
   "metadata": {},
   "outputs": [],
   "source": [
    "GUIDELINE_PATH = join('..', 'Guidelines', 'meditron-guidelines', 'processed')"
   ]
  },
  {
   "cell_type": "code",
   "execution_count": 30,
   "metadata": {},
   "outputs": [
    {
     "name": "stdout",
     "output_type": "stream",
     "text": [
      " - Retrieving guidelines\n"
     ]
    }
   ],
   "source": [
    "# Retrieve all guidelines\n",
    "print(' - Retrieving guidelines')\n",
    "guidelines = []\n",
    "for file in listdir(GUIDELINE_PATH):\n",
    "    path = join(GUIDELINE_PATH, file)\n",
    "\n",
    "    if path.endswith('.jsonl'):\n",
    "        with open(path, 'r') as f:\n",
    "            guidelines += [x for x in list(map(json.loads, f.readlines())) if 'title' in x]\n",
    "# guidelines = guidelines[:5000]"
   ]
  },
  {
   "cell_type": "code",
   "execution_count": 9,
   "metadata": {},
   "outputs": [
    {
     "name": "stdout",
     "output_type": "stream",
     "text": [
      " - Proprocess and extract the corpus\n"
     ]
    },
    {
     "name": "stderr",
     "output_type": "stream",
     "text": [
      "100%|██████████| 42336/42336 [00:18<00:00, 2300.37it/s]\n"
     ]
    }
   ],
   "source": [
    "# Preprocess all documents (prior to building the vocabulary)\n",
    "corpus = []\n",
    "\n",
    "print(' - Proprocess and extract the corpus')\n",
    "for guideline in tqdm(guidelines):\n",
    "    text = guideline[\"text\"]\n",
    "\n",
    "    # Replacing unconventional punctuation with spaces\n",
    "    text = re.sub(r'[\\(\\)\\[\\]\\,\\-\\;\\.\\!\\?”“\\\"\\']', ' ', text)\n",
    "    text = re.sub(r'[\\*+\\_\\#]+', ' ', text)\n",
    "    text = re.sub(r'\\s+', ' ', text)\n",
    "\n",
    "    # Stemming is done by sklearn\n",
    "    corpus.append(text)"
   ]
  },
  {
   "cell_type": "code",
   "execution_count": 23,
   "metadata": {},
   "outputs": [
    {
     "name": "stdout",
     "output_type": "stream",
     "text": [
      " - Vectorize the corpus\n",
      "(42336, 5181)\n"
     ]
    }
   ],
   "source": [
    "# Build the vocabulary matrix\n",
    "print(' - Vectorize the corpus')\n",
    "vectorizer = CountVectorizer(min_df=0.01, max_df=0.9, token_pattern=r\"(?u)\\b[a-zA-Z][a-zA-Z]+\\b\") # Must be less that 80%\n",
    "counts = vectorizer.fit_transform(corpus).toarray()\n",
    "print(counts.shape)"
   ]
  },
  {
   "cell_type": "code",
   "execution_count": 24,
   "metadata": {},
   "outputs": [
    {
     "data": {
      "image/png": "[encoded data removed]",
      "text/plain": [
       "<Figure size 640x480 with 1 Axes>"
      ]
     },
     "metadata": {},
     "output_type": "display_data"
    }
   ],
   "source": [
    "plt.hist(np.mean(counts >= 1, axis=0), bins=1000)\n",
    "plt.xscale('log')\n",
    "plt.show()"
   ]
  },
  {
   "cell_type": "code",
   "execution_count": 35,
   "metadata": {},
   "outputs": [
    {
     "name": "stdout",
     "output_type": "stream",
     "text": [
      " - Proprocess and extract the corpus\n"
     ]
    },
    {
     "name": "stderr",
     "output_type": "stream",
     "text": [
      "100%|██████████| 42336/42336 [00:18<00:00, 2298.67it/s]\n"
     ]
    },
    {
     "name": "stdout",
     "output_type": "stream",
     "text": [
      " - Vectorize the corpus\n",
      " - Learn the IDF for each terms\n",
      " - Build the TF-IDF dense matrix\n"
     ]
    }
   ],
   "source": [
    "# Preprocess all texture (prior to building the vocabulary)\n",
    "compact_idf, pca, transformer, vectorizer = build_tfidf(guidelines, pca_component=100)"
   ]
  },
  {
   "cell_type": "code",
   "execution_count": 36,
   "metadata": {},
   "outputs": [],
   "source": [
    "# Transform pca invert\n",
    "X = np.eye(compact_idf.shape[1])\n",
    "Y = pca.inverse_transform(X)"
   ]
  },
  {
   "cell_type": "code",
   "execution_count": 54,
   "metadata": {},
   "outputs": [
    {
     "name": "stdout",
     "output_type": "stream",
     "text": [
      "============================== FEATURE 1 ==============================\n",
      "['Erectile dysfunction', 'Asthma', 'Mouth cancer', \"Crohn's disease\", 'Throat cancer']\n",
      "============================== FEATURE 7 ==============================\n",
      "['Survivin', 'Disabled children and young people up to 25 with severe complex needs: integrated service delivery and organisation across health, social care and education', 'TP53', 'Self-harm: assessment, management and preventing recurrence', 'p53']\n"
     ]
    }
   ],
   "source": [
    "sort = np.argsort(-np.abs(Y), axis=1)\n",
    "sort = sort[:, :10]\n",
    "\n",
    "for i in [1, 7]:\n",
    "    print('============================== FEATURE {} =============================='.format(i))\n",
    "    M = sort[i, :]\n",
    "    yy = Y[i, M]\n",
    "    names = vectorizer.get_feature_names_out()[M]\n",
    "    # print('\\n'.join('{:<30}: {}'.format(name, p) for name, p in zip(names, yy)))\n",
    "\n",
    "    MID = np.argsort(-np.abs(compact_idf[:, i]))[:5]\n",
    "    print([guidelines[x]['title'] for x in MID])"
   ]
  },
  {
   "cell_type": "code",
   "execution_count": 43,
   "metadata": {},
   "outputs": [
    {
     "data": {
      "text/plain": [
       "<matplotlib.collections.PathCollection at 0x7f510438b0a0>"
      ]
     },
     "execution_count": 43,
     "metadata": {},
     "output_type": "execute_result"
    },
    {
     "data": {
      "image/png": "[encoded data removed]",
      "text/plain": [
       "<Figure size 640x480 with 1 Axes>"
      ]
     },
     "metadata": {},
     "output_type": "display_data"
    }
   ],
   "source": [
    "A, B = compact_idf.T[7, :], compact_idf.T[1, :]\n",
    "plt.scatter(A, B)"
   ]
  },
  {
   "cell_type": "code",
   "execution_count": null,
   "metadata": {},
   "outputs": [],
   "source": []
  }
 ],
 "metadata": {
  "kernelspec": {
   "display_name": "Python 3",
   "language": "python",
   "name": "python3"
  },
  "language_info": {
   "codemirror_mode": {
    "name": "ipython",
    "version": 3
   },
   "file_extension": ".py",
   "mimetype": "text/x-python",
   "name": "python",
   "nbconvert_exporter": "python",
   "pygments_lexer": "ipython3",
   "version": "3.10.9"
  }
 },
 "nbformat": 4,
 "nbformat_minor": 2
}
