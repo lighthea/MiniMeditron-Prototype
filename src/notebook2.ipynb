{
 "cells": [
  {
   "cell_type": "code",
   "execution_count": 1,
   "metadata": {},
   "outputs": [],
   "source": [
    "from os.path import join, exists\n",
    "from os import listdir\n",
    "from SPARQLWrapper import SPARQLWrapper, JSON\n",
    "from unidecode import unidecode\n",
    "from tqdm import tqdm\n",
    "from functools import cache\n",
    "import itertools\n",
    "\n",
    "import hashlib\n",
    "import random\n",
    "import string\n",
    "import json\n",
    "import sys\n",
    "import re\n",
    "\n",
    "sys.path.append('..')\n",
    "\n",
    "from lib.dataset_gen import *"
   ]
  },
  {
   "cell_type": "code",
   "execution_count": 2,
   "metadata": {},
   "outputs": [
    {
     "name": "stdout",
     "output_type": "stream",
     "text": [
      " [+] Using cached query: d24ede18\n",
      " [+] Using cached query: b2ea7c42\n",
      " [+] Using cached query: b02af3d0\n",
      "Unmatched proportion: 4.49% (59 elements)\n"
     ]
    }
   ],
   "source": [
    "guidelines, dataset, search = setup()"
   ]
  },
  {
   "cell_type": "code",
   "execution_count": 3,
   "metadata": {},
   "outputs": [],
   "source": [
    "multiindex = build_multiindex(dataset)"
   ]
  },
  {
   "cell_type": "code",
   "execution_count": 4,
   "metadata": {},
   "outputs": [
    {
     "data": {
      "text/plain": [
       "'Iron Deficiency Anemia in Young Children'"
      ]
     },
     "execution_count": 4,
     "metadata": {},
     "output_type": "execute_result"
    }
   ],
   "source": [
    "guidelines[0]['label']"
   ]
  },
  {
   "cell_type": "code",
   "execution_count": 5,
   "metadata": {},
   "outputs": [
    {
     "data": {
      "text/plain": [
       "{'id': 'Q3299714',\n",
       " 'name': 'normocytic anemia',\n",
       " 'alt': ['ANEMIA NORMOCYTIC', 'Normocytic anemia'],\n",
       " 'subclass_of': ['anemia'],\n",
       " 'study_by': [],\n",
       " 'health_speciality': [],\n",
       " 'symptoms_and_signs': []}"
      ]
     },
     "execution_count": 5,
     "metadata": {},
     "output_type": "execute_result"
    }
   ],
   "source": [
    "dataset['Q3299714']"
   ]
  },
  {
   "cell_type": "code",
   "execution_count": 6,
   "metadata": {},
   "outputs": [
    {
     "data": {
      "text/plain": [
       "'Q55786109'"
      ]
     },
     "execution_count": 6,
     "metadata": {},
     "output_type": "execute_result"
    }
   ],
   "source": [
    "q_init = random.choice(list(dataset.keys())); q_init"
   ]
  },
  {
   "cell_type": "code",
   "execution_count": 8,
   "metadata": {},
   "outputs": [
    {
     "name": "stdout",
     "output_type": "stream",
     "text": [
      "leiomyosarcoma of the cervix uteri\n",
      "sarcoma of cervix uteri\n",
      "cervical uterine cancer\n",
      "sarcoma\n",
      "uterine cancer\n",
      "cervix disease\n",
      "cervical benign neoplasm\n",
      "cell type cancer\n"
     ]
    },
    {
     "data": {
      "text/plain": [
       "[([], [], []),\n",
       " ([], [], []),\n",
       " ([], ['oncology'], []),\n",
       " (['solid tumour oncology'], ['oncology'], []),\n",
       " ([], ['oncology'], []),\n",
       " ([], ['obstetrics and gynaecology'], []),\n",
       " ([], [], []),\n",
       " ([], [], [])]"
      ]
     },
     "execution_count": 8,
     "metadata": {},
     "output_type": "execute_result"
    }
   ],
   "source": [
    "metric_search(dataset, search, q_init, n_max=8)"
   ]
  },
  {
   "cell_type": "code",
   "execution_count": 15,
   "metadata": {},
   "outputs": [
    {
     "ename": "TypeError",
     "evalue": "unhashable type: 'dict'",
     "output_type": "error",
     "traceback": [
      "\u001b[0;31m---------------------------------------------------------------------------\u001b[0m",
      "\u001b[0;31mTypeError\u001b[0m                                 Traceback (most recent call last)",
      "Cell \u001b[0;32mIn[15], line 1\u001b[0m\n\u001b[0;32m----> 1\u001b[0m domains,_ \u001b[38;5;241m=\u001b[39m \u001b[38;5;28mlist\u001b[39m(\u001b[38;5;28mzip\u001b[39m(\u001b[38;5;241m*\u001b[39m\u001b[43mmetric_search\u001b[49m\u001b[43m(\u001b[49m\u001b[43mdataset\u001b[49m\u001b[43m,\u001b[49m\u001b[43m \u001b[49m\u001b[43msearch\u001b[49m\u001b[43m,\u001b[49m\u001b[43m \u001b[49m\u001b[43mq_init\u001b[49m\u001b[43m,\u001b[49m\u001b[43m \u001b[49m\u001b[43mn\u001b[49m\u001b[38;5;241;43m=\u001b[39;49m\u001b[38;5;241;43m8\u001b[39;49m\u001b[43m)\u001b[49m))\n",
      "\u001b[0;31mTypeError\u001b[0m: unhashable type: 'dict'"
     ]
    }
   ],
   "source": [
    "domains,_ = list(zip(*metric_search(dataset, search, q_init, n=8)))"
   ]
  },
  {
   "cell_type": "code",
   "execution_count": null,
   "metadata": {},
   "outputs": [
    {
     "data": {
      "text/plain": [
       "([],\n",
       " ['medical genetics'],\n",
       " ['pulmonology'],\n",
       " ['pulmonology'],\n",
       " [],\n",
       " [],\n",
       " ['pulmonology'],\n",
       " ['medical genetics'])"
      ]
     },
     "execution_count": 159,
     "metadata": {},
     "output_type": "execute_result"
    }
   ],
   "source": [
    "A = metric_search(q_init)\n",
    "domains, _ = list(zip(*A))\n",
    "domains"
   ]
  },
  {
   "cell_type": "code",
   "execution_count": null,
   "metadata": {},
   "outputs": [
    {
     "data": {
      "text/plain": [
       "['medical genetics', 'pulmonology']"
      ]
     },
     "execution_count": 160,
     "metadata": {},
     "output_type": "execute_result"
    }
   ],
   "source": [
    "extract_field(domains)"
   ]
  },
  {
   "cell_type": "code",
   "execution_count": null,
   "metadata": {},
   "outputs": [],
   "source": [
    "min_q, max_q = find_matching_not_matching(q_init, domains)"
   ]
  },
  {
   "cell_type": "code",
   "execution_count": null,
   "metadata": {},
   "outputs": [
    {
     "data": {
      "text/plain": [
       "('Q18558032', 'Q18928105')"
      ]
     },
     "execution_count": 165,
     "metadata": {},
     "output_type": "execute_result"
    }
   ],
   "source": [
    "min_q, max_q"
   ]
  },
  {
   "cell_type": "code",
   "execution_count": null,
   "metadata": {},
   "outputs": [
    {
     "data": {
      "text/plain": [
       "('skin melanoma',\n",
       " 'congenital pulmonary airway malformation type 4',\n",
       " 'Kartagener syndrome')"
      ]
     },
     "execution_count": 166,
     "metadata": {},
     "output_type": "execute_result"
    }
   ],
   "source": [
    "dataset[min_q]['name'], dataset[q_init]['name'], dataset[max_q]['name']"
   ]
  },
  {
   "cell_type": "code",
   "execution_count": null,
   "metadata": {},
   "outputs": [
    {
     "data": {
      "text/plain": [
       "{'id': 'Q18928105',\n",
       " 'name': 'Kartagener syndrome',\n",
       " 'alt': ['PCD',\n",
       "  \"Kartagener's syndrome\",\n",
       "  'Immotile ciliary syndrome',\n",
       "  'Primary ciliary dyskinesia, Kartagener type'],\n",
       " 'subclass_of': ['disease', 'situs inversus', 'primary ciliary dyskinesia'],\n",
       " 'study_by': [],\n",
       " 'health_speciality': ['cardiology',\n",
       "  'otolaryngology',\n",
       "  'pulmonology',\n",
       "  'medical genetics'],\n",
       " 'symptoms_and_signs': []}"
      ]
     },
     "execution_count": 167,
     "metadata": {},
     "output_type": "execute_result"
    }
   ],
   "source": [
    "dataset[max_q]"
   ]
  },
  {
   "cell_type": "code",
   "execution_count": null,
   "metadata": {},
   "outputs": [],
   "source": []
  }
 ],
 "metadata": {
  "kernelspec": {
   "display_name": "base",
   "language": "python",
   "name": "python3"
  },
  "language_info": {
   "codemirror_mode": {
    "name": "ipython",
    "version": 3
   },
   "file_extension": ".py",
   "mimetype": "text/x-python",
   "name": "python",
   "nbconvert_exporter": "python",
   "pygments_lexer": "ipython3",
   "version": "3.10.9"
  }
 },
 "nbformat": 4,
 "nbformat_minor": 2
}
