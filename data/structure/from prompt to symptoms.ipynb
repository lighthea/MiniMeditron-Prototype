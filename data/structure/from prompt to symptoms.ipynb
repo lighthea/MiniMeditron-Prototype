{
 "cells": [
  {
   "cell_type": "code",
   "execution_count": 1,
   "id": "591ace97",
   "metadata": {},
   "outputs": [],
   "source": [
    "from os import listdir\n",
    "from os.path import isfile, join\n",
    "import subprocess\n",
    "onlyfiles = [f for f in listdir(\"Generated_descriptions/\") if isfile(join(\"Generated_descriptions/\", f))]"
   ]
  },
  {
   "cell_type": "code",
   "execution_count": 2,
   "id": "9dcb6680",
   "metadata": {},
   "outputs": [
    {
     "data": {
      "text/plain": [
       "['Pat Simmons.txt',\n",
       " 'Larsen syndrome.txt',\n",
       " 'Calmurid.txt',\n",
       " 'TOLLIP.txt',\n",
       " 'Anthranilic acid.txt',\n",
       " 'Vanillyl mandelic acid.txt',\n",
       " 'SLC7A9.txt',\n",
       " 'SOX4.txt',\n",
       " 'Amatoxin.txt',\n",
       " 'Theria.txt']"
      ]
     },
     "execution_count": 2,
     "metadata": {},
     "output_type": "execute_result"
    }
   ],
   "source": [
    "onlyfiles"
   ]
  },
  {
   "cell_type": "code",
   "execution_count": 3,
   "id": "837a2067",
   "metadata": {},
   "outputs": [],
   "source": [
    "content = []\n",
    "for file in onlyfiles:\n",
    "    with open(\"Generated_descriptions/\"+file) as f:\n",
    "        content += [(f.read(), file)]"
   ]
  },
  {
   "cell_type": "code",
   "execution_count": 4,
   "id": "cef0f555",
   "metadata": {},
   "outputs": [
    {
     "data": {
      "text/plain": [
       "10"
      ]
     },
     "execution_count": 4,
     "metadata": {},
     "output_type": "execute_result"
    }
   ],
   "source": [
    "len(content)"
   ]
  },
  {
   "cell_type": "code",
   "execution_count": 5,
   "id": "e19e2fc8",
   "metadata": {},
   "outputs": [],
   "source": [
    "def remove_newlines(text):\n",
    "    return text.replace('\\n', ' ')\n",
    "\n",
    "def save_to_file(text, filename):\n",
    "    with open(filename, 'w') as file:\n",
    "        file.write(text)"
   ]
  },
  {
   "cell_type": "code",
   "execution_count": 11,
   "id": "6e6db2a9",
   "metadata": {},
   "outputs": [],
   "source": [
    "def run_mistral_with_input(input_text, timeout):\n",
    "    process = subprocess.Popen(['ollama', 'run', 'mistral'], stdin=subprocess.PIPE, stdout=subprocess.PIPE, stderr=subprocess.PIPE, text=True)\n",
    "\n",
    "    try:\n",
    "        stdout, stderr = process.communicate(input_text, timeout=timeout)\n",
    "        \n",
    "        if process.returncode != 0:\n",
    "            print(f\"Error executing command: {stderr}\")\n",
    "            return None\n",
    "\n",
    "    except subprocess.TimeoutExpired:\n",
    "        process.terminate()\n",
    "        process.wait()\n",
    "        print(\"Process timed out and was terminated.\")\n",
    "        return None\n",
    "\n",
    "    finally:\n",
    "        if process.poll() is None: \n",
    "            process.terminate()\n",
    "        process.wait()\n",
    "    return stdout\n"
   ]
  },
  {
   "cell_type": "code",
   "execution_count": 16,
   "id": "574fe3f8",
   "metadata": {},
   "outputs": [
    {
     "name": "stdout",
     "output_type": "stream",
     "text": [
      "Mistral's response saved to response.txt\n",
      "Process timed out and was terminated.\n"
     ]
    },
    {
     "ename": "KeyboardInterrupt",
     "evalue": "",
     "output_type": "error",
     "traceback": [
      "\u001b[0;31m---------------------------------------------------------------------------\u001b[0m",
      "\u001b[0;31mKeyboardInterrupt\u001b[0m                         Traceback (most recent call last)",
      "Cell \u001b[0;32mIn[16], line 58\u001b[0m\n\u001b[1;32m      2\u001b[0m     input_text \u001b[38;5;241m=\u001b[39m \u001b[38;5;124m\"\u001b[39m\u001b[38;5;124m Here is a patient description : \u001b[39m\u001b[38;5;124m\"\u001b[39m \u001b[38;5;241m+\u001b[39mtext\u001b[38;5;241m+\u001b[39m \u001b[38;5;124m\"\"\"\u001b[39m\n\u001b[1;32m      3\u001b[0m \u001b[38;5;124mFill the following structure accordingly. Don\u001b[39m\u001b[38;5;124m'\u001b[39m\u001b[38;5;124mt change it.\u001b[39m\n\u001b[1;32m      4\u001b[0m \u001b[38;5;124mIf the information is not given, don\u001b[39m\u001b[38;5;124m'\u001b[39m\u001b[38;5;124mt write anything, leave it as an empty section.\u001b[39m\n\u001b[0;32m   (...)\u001b[0m\n\u001b[1;32m     53\u001b[0m \u001b[38;5;124m<END>\u001b[39m\n\u001b[1;32m     54\u001b[0m \u001b[38;5;124m\"\"\"\u001b[39m\n\u001b[1;32m     56\u001b[0m     input_text \u001b[38;5;241m=\u001b[39m remove_newlines(input_text)\n\u001b[0;32m---> 58\u001b[0m     response \u001b[38;5;241m=\u001b[39m run_mistral_with_input(input_text, \u001b[38;5;241m60\u001b[39m \u001b[38;5;241m*\u001b[39m \u001b[38;5;241m5\u001b[39m)\n\u001b[1;32m     59\u001b[0m     \u001b[38;5;28;01mif\u001b[39;00m response:\n\u001b[1;32m     60\u001b[0m         \u001b[38;5;28;01mwith\u001b[39;00m \u001b[38;5;28mopen\u001b[39m(\u001b[38;5;124m\"\u001b[39m\u001b[38;5;124moutput/\u001b[39m\u001b[38;5;124m\"\u001b[39m\u001b[38;5;241m+\u001b[39mfile[:\u001b[38;5;241m-\u001b[39m\u001b[38;5;241m4\u001b[39m], \u001b[38;5;124m\"\u001b[39m\u001b[38;5;124mw\u001b[39m\u001b[38;5;124m\"\u001b[39m) \u001b[38;5;28;01mas\u001b[39;00m file:\n",
      "Cell \u001b[0;32mIn[11], line 5\u001b[0m, in \u001b[0;36mrun_mistral_with_input\u001b[0;34m(input_text, timeout)\u001b[0m\n\u001b[1;32m      2\u001b[0m process \u001b[38;5;241m=\u001b[39m subprocess\u001b[38;5;241m.\u001b[39mPopen([\u001b[38;5;124m'\u001b[39m\u001b[38;5;124mollama\u001b[39m\u001b[38;5;124m'\u001b[39m, \u001b[38;5;124m'\u001b[39m\u001b[38;5;124mrun\u001b[39m\u001b[38;5;124m'\u001b[39m, \u001b[38;5;124m'\u001b[39m\u001b[38;5;124mmistral\u001b[39m\u001b[38;5;124m'\u001b[39m], stdin\u001b[38;5;241m=\u001b[39msubprocess\u001b[38;5;241m.\u001b[39mPIPE, stdout\u001b[38;5;241m=\u001b[39msubprocess\u001b[38;5;241m.\u001b[39mPIPE, stderr\u001b[38;5;241m=\u001b[39msubprocess\u001b[38;5;241m.\u001b[39mPIPE, text\u001b[38;5;241m=\u001b[39m\u001b[38;5;28;01mTrue\u001b[39;00m)\n\u001b[1;32m      4\u001b[0m \u001b[38;5;28;01mtry\u001b[39;00m:\n\u001b[0;32m----> 5\u001b[0m     stdout, stderr \u001b[38;5;241m=\u001b[39m process\u001b[38;5;241m.\u001b[39mcommunicate(input_text, timeout\u001b[38;5;241m=\u001b[39mtimeout)\n\u001b[1;32m      7\u001b[0m     \u001b[38;5;28;01mif\u001b[39;00m process\u001b[38;5;241m.\u001b[39mreturncode \u001b[38;5;241m!=\u001b[39m \u001b[38;5;241m0\u001b[39m:\n\u001b[1;32m      8\u001b[0m         \u001b[38;5;28mprint\u001b[39m(\u001b[38;5;124mf\u001b[39m\u001b[38;5;124m\"\u001b[39m\u001b[38;5;124mError executing command: \u001b[39m\u001b[38;5;132;01m{\u001b[39;00mstderr\u001b[38;5;132;01m}\u001b[39;00m\u001b[38;5;124m\"\u001b[39m)\n",
      "File \u001b[0;32m~/miniconda3/envs/bastienv/lib/python3.11/subprocess.py:1209\u001b[0m, in \u001b[0;36mPopen.communicate\u001b[0;34m(self, input, timeout)\u001b[0m\n\u001b[1;32m   1206\u001b[0m     endtime \u001b[38;5;241m=\u001b[39m \u001b[38;5;28;01mNone\u001b[39;00m\n\u001b[1;32m   1208\u001b[0m \u001b[38;5;28;01mtry\u001b[39;00m:\n\u001b[0;32m-> 1209\u001b[0m     stdout, stderr \u001b[38;5;241m=\u001b[39m \u001b[38;5;28mself\u001b[39m\u001b[38;5;241m.\u001b[39m_communicate(\u001b[38;5;28minput\u001b[39m, endtime, timeout)\n\u001b[1;32m   1210\u001b[0m \u001b[38;5;28;01mexcept\u001b[39;00m \u001b[38;5;167;01mKeyboardInterrupt\u001b[39;00m:\n\u001b[1;32m   1211\u001b[0m     \u001b[38;5;66;03m# https://bugs.python.org/issue25942\u001b[39;00m\n\u001b[1;32m   1212\u001b[0m     \u001b[38;5;66;03m# See the detailed comment in .wait().\u001b[39;00m\n\u001b[1;32m   1213\u001b[0m     \u001b[38;5;28;01mif\u001b[39;00m timeout \u001b[38;5;129;01mis\u001b[39;00m \u001b[38;5;129;01mnot\u001b[39;00m \u001b[38;5;28;01mNone\u001b[39;00m:\n",
      "File \u001b[0;32m~/miniconda3/envs/bastienv/lib/python3.11/subprocess.py:2108\u001b[0m, in \u001b[0;36mPopen._communicate\u001b[0;34m(self, input, endtime, orig_timeout)\u001b[0m\n\u001b[1;32m   2101\u001b[0m     \u001b[38;5;28mself\u001b[39m\u001b[38;5;241m.\u001b[39m_check_timeout(endtime, orig_timeout,\n\u001b[1;32m   2102\u001b[0m                         stdout, stderr,\n\u001b[1;32m   2103\u001b[0m                         skip_check_and_raise\u001b[38;5;241m=\u001b[39m\u001b[38;5;28;01mTrue\u001b[39;00m)\n\u001b[1;32m   2104\u001b[0m     \u001b[38;5;28;01mraise\u001b[39;00m \u001b[38;5;167;01mRuntimeError\u001b[39;00m(  \u001b[38;5;66;03m# Impossible :)\u001b[39;00m\n\u001b[1;32m   2105\u001b[0m         \u001b[38;5;124m'\u001b[39m\u001b[38;5;124m_check_timeout(..., skip_check_and_raise=True) \u001b[39m\u001b[38;5;124m'\u001b[39m\n\u001b[1;32m   2106\u001b[0m         \u001b[38;5;124m'\u001b[39m\u001b[38;5;124mfailed to raise TimeoutExpired.\u001b[39m\u001b[38;5;124m'\u001b[39m)\n\u001b[0;32m-> 2108\u001b[0m ready \u001b[38;5;241m=\u001b[39m selector\u001b[38;5;241m.\u001b[39mselect(timeout)\n\u001b[1;32m   2109\u001b[0m \u001b[38;5;28mself\u001b[39m\u001b[38;5;241m.\u001b[39m_check_timeout(endtime, orig_timeout, stdout, stderr)\n\u001b[1;32m   2111\u001b[0m \u001b[38;5;66;03m# XXX Rewrite these to use non-blocking I/O on the file\u001b[39;00m\n\u001b[1;32m   2112\u001b[0m \u001b[38;5;66;03m# objects; they are no longer using C stdio!\u001b[39;00m\n",
      "File \u001b[0;32m~/miniconda3/envs/bastienv/lib/python3.11/selectors.py:415\u001b[0m, in \u001b[0;36m_PollLikeSelector.select\u001b[0;34m(self, timeout)\u001b[0m\n\u001b[1;32m    413\u001b[0m ready \u001b[38;5;241m=\u001b[39m []\n\u001b[1;32m    414\u001b[0m \u001b[38;5;28;01mtry\u001b[39;00m:\n\u001b[0;32m--> 415\u001b[0m     fd_event_list \u001b[38;5;241m=\u001b[39m \u001b[38;5;28mself\u001b[39m\u001b[38;5;241m.\u001b[39m_selector\u001b[38;5;241m.\u001b[39mpoll(timeout)\n\u001b[1;32m    416\u001b[0m \u001b[38;5;28;01mexcept\u001b[39;00m \u001b[38;5;167;01mInterruptedError\u001b[39;00m:\n\u001b[1;32m    417\u001b[0m     \u001b[38;5;28;01mreturn\u001b[39;00m ready\n",
      "\u001b[0;31mKeyboardInterrupt\u001b[0m: "
     ]
    }
   ],
   "source": [
    "for (text,file) in content:\n",
    "    input_text = \" Here is a patient description : \" +text+ \"\"\"\n",
    "Fill the following structure accordingly. Don't change it.\n",
    "If the information is not given, don't write anything, leave it as an empty section.\n",
    "If an information is true for multiple symptoms, repeat the information.\n",
    "Only answer with the filled structure.\n",
    "\n",
    "{\n",
    "  \"symptoms\": [\n",
    "    {\n",
    "      \"name of the symptom\": \"\",\n",
    "      \"intensity of symptom\": \"\",\n",
    "      \"specific attributes of the symptom\": {\n",
    "        \"location\": \"\",\n",
    "        \"size\": \"\",\n",
    "        \"color\": \"\",\n",
    "        \"frequency\": \"\"\n",
    "      },\n",
    "      \"When did the symptom appear \": \"\",\n",
    "      \"previous treatments\": \"\",\n",
    "      \"reaction to previous treaments\"\n",
    "      \"behaviour affecting the symptom\": \"\"\n",
    "    }\n",
    "  ],\n",
    "  \"socio economic context\": {\n",
    "  },\n",
    "  \"geographic_context\": {\n",
    "      \"recent travels\": \"\",\n",
    "      \"level of care\": \"\"\n",
    "  },\n",
    "  \"physiological context\": {\n",
    "  \n",
    "  },\n",
    "  \"psychological context\": {\n",
    "  \n",
    "  },\n",
    "  \"personal medical_history\": {\n",
    "  \n",
    "  },\n",
    "  \"family medical_history\": {\n",
    "  \n",
    "  },\n",
    "  \"current medication\": {\n",
    "\n",
    "  },\n",
    "  \"lifestyle factors\": {\n",
    "  \n",
    "  },\n",
    "  \"results of recent medical tests\": {\n",
    "  \n",
    "  }\n",
    "}\n",
    "<END>\n",
    "\"\"\"\n",
    "\n",
    "    input_text = remove_newlines(input_text)\n",
    "    \n",
    "    response = run_mistral_with_input(input_text, 60 * 5)\n",
    "    if response:\n",
    "        with open(\"output/\"+file[:-4], \"w\") as file:\n",
    "            file.write(response)\n",
    "        print(\"Mistral's response saved to response.txt\")"
   ]
  },
  {
   "cell_type": "code",
   "execution_count": 14,
   "id": "d07a22e7",
   "metadata": {},
   "outputs": [
    {
     "data": {
      "text/plain": [
       "'>>> Salut ?\\nSalut! Comment allez-vous ?\\n\\n'"
      ]
     },
     "execution_count": 14,
     "metadata": {},
     "output_type": "execute_result"
    }
   ],
   "source": [
    "run_mistral_with_input(\"Salut ?\", timeout = 60)"
   ]
  },
  {
   "cell_type": "code",
   "execution_count": null,
   "id": "f5d5a756",
   "metadata": {},
   "outputs": [],
   "source": []
  }
 ],
 "metadata": {
  "kernelspec": {
   "display_name": "Python 3 (ipykernel)",
   "language": "python",
   "name": "python3"
  },
  "language_info": {
   "codemirror_mode": {
    "name": "ipython",
    "version": 3
   },
   "file_extension": ".py",
   "mimetype": "text/x-python",
   "name": "python",
   "nbconvert_exporter": "python",
   "pygments_lexer": "ipython3",
   "version": "3.11.5"
  }
 },
 "nbformat": 4,
 "nbformat_minor": 5
}
