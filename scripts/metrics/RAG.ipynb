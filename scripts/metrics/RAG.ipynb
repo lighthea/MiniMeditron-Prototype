{
 "cells": [
  {
   "cell_type": "code",
   "execution_count": 7,
   "metadata": {},
   "outputs": [],
   "source": [
    "from sklearn.feature_extraction.text import TfidfVectorizer\n",
    "from sklearn.metrics.pairwise import linear_kernel\n",
    "\n",
    "class SimpleTFIDFRetriever:\n",
    "    def __init__(self, documents):\n",
    "        self.vectorizer = TfidfVectorizer(stop_words='english')\n",
    "        self.documents = documents\n",
    "        self.doc_vectors = self.vectorizer.fit_transform(documents)\n",
    "    \n",
    "    def query(self, text, top_n=5):\n",
    "        # Vectorize the query\n",
    "        query_vector = self.vectorizer.transform([text])\n",
    "        \n",
    "        # Calculate cosine similarity\n",
    "        cosine_similarities = linear_kernel(query_vector, self.doc_vectors).flatten()\n",
    "        \n",
    "        # Get the top_n document indices based on similarity\n",
    "        related_docs_indices = cosine_similarities.argsort()[:-top_n-1:-1]\n",
    "        \n",
    "        # Return the top_n relevant documents\n",
    "        return [self.documents[i] for i in related_docs_indices]\n"
   ]
  },
  {
   "cell_type": "code",
   "execution_count": 9,
   "metadata": {},
   "outputs": [
    {
     "data": {
      "application/vnd.jupyter.widget-view+json": {
       "model_id": "0a848526d16a47a7a847bf844e20bb66",
       "version_major": 2,
       "version_minor": 0
      },
      "text/plain": [
       "Downloading (…)lve/main/config.json:   0%|          | 0.00/1.72k [00:00<?, ?B/s]"
      ]
     },
     "metadata": {},
     "output_type": "display_data"
    },
    {
     "data": {
      "application/vnd.jupyter.widget-view+json": {
       "model_id": "1bba467a1762457e96f925cd8bc7ddda",
       "version_major": 2,
       "version_minor": 0
      },
      "text/plain": [
       "Downloading model.safetensors:   0%|          | 0.00/558M [00:00<?, ?B/s]"
      ]
     },
     "metadata": {},
     "output_type": "display_data"
    },
    {
     "data": {
      "application/vnd.jupyter.widget-view+json": {
       "model_id": "db84d94c6b7e485b90586f240350c4f7",
       "version_major": 2,
       "version_minor": 0
      },
      "text/plain": [
       "Downloading (…)olve/main/vocab.json:   0%|          | 0.00/899k [00:00<?, ?B/s]"
      ]
     },
     "metadata": {},
     "output_type": "display_data"
    },
    {
     "data": {
      "application/vnd.jupyter.widget-view+json": {
       "model_id": "13460feb28ad431b8be4dc8b3dba0650",
       "version_major": 2,
       "version_minor": 0
      },
      "text/plain": [
       "Downloading (…)olve/main/merges.txt:   0%|          | 0.00/456k [00:00<?, ?B/s]"
      ]
     },
     "metadata": {},
     "output_type": "display_data"
    }
   ],
   "source": [
    "import os, json\n",
    "from transformers import BartForConditionalGeneration, BartTokenizer\n",
    "\n",
    "# Initialize the BART model and tokenizer\n",
    "model_name = \"facebook/bart-base\"\n",
    "model = BartForConditionalGeneration.from_pretrained(model_name)\n",
    "tokenizer = BartTokenizer.from_pretrained(model_name)\n",
    "\n",
    "def summarize_text(text):\n",
    "    # Tokenize the input text\n",
    "    inputs = tokenizer([text], max_length=1024, return_tensors=\"pt\", truncation=True)\n",
    "    \n",
    "    # Generate the summarized version of the input text\n",
    "    summary_ids = model.generate(inputs[\"input_ids\"], num_beams=4, length_penalty=2.0, max_length=250, min_length=50, no_repeat_ngram_size=2)\n",
    "    \n",
    "    # Decode and return the summarized text\n",
    "    return tokenizer.decode(summary_ids[0], skip_special_tokens=True)"
   ]
  },
  {
   "cell_type": "code",
   "execution_count": 12,
   "metadata": {},
   "outputs": [
    {
     "name": "stderr",
     "output_type": "stream",
     "text": [
      "100%|██████████| 46/46 [07:41<00:00, 10.03s/it]\n"
     ]
    }
   ],
   "source": [
    "from tqdm import tqdm\n",
    "\n",
    "documents = []\n",
    "folder_path = \"/home/etien/Documents/EPFLcourses/MA3/Meditron/Guidelines/split_guidelines/cdc_diseases.jsonl\"   \n",
    "\n",
    "for filename in tqdm(os.listdir(folder_path)):\n",
    "    if filename.endswith(\".json\"):\n",
    "        with open(os.path.join(folder_path, filename), 'r') as f:\n",
    "            data = json.load(f)\n",
    "            # summarize the data['text'] before appending it to documents\n",
    "            summarized_text = summarize_text(data['text'])\n",
    "            documents.append(summarized_text)"
   ]
  },
  {
   "cell_type": "code",
   "execution_count": 13,
   "metadata": {},
   "outputs": [
    {
     "name": "stdout",
     "output_type": "stream",
     "text": [
      "[\"Cholera | Disease Directory | Travelers' Health | CDC [CDC] [Health] CDC[CDC], CDC (CDC), CDC, CDC(CDC) CDC-CDC[mother and child washing their hands](/travel/images/handwashing-2022.jpg)CDC/CDC- CDC/CHOLERA CHOLERA CHALLENGEChOLera can be a life-threatening disease caused by bacteria called - Vibrio cholerae-. CholerA person can get choleremia from unsafe food or water. This can happen when cholaera bacteria spread from a person into drinking water or the water used to grow food, prepare food. These bacteria can also occur when stool (poop) in sewage gets into the body and contaminates the food supply.Most people who get C-  Most people will have mild or no symptoms. About 1 in 10 people with choroidal choleum will experience severe symptoms and death. Early symptoms (choleroomptoms](https://www.cdc.gov/c-o-chola.html) include the following:  Irritable diarrhea, sometimes described as “rice-water stools�\", \"Mpox | Disease Directory | Travelers' Health | CDC's Mpox Information System [data](https://www.cdc.gov/poxvirus/mpox/index.html) is a disease caused by infection with mpox virus. In 2022, an outbreak began around the world in areas where mpX is not usually found. Previously, mpOX was found mainly in Central and West Africa, often in forested areas.The symptoms of the disease are as follows:-  A rash that can initially look like pimples or blisters. The rash is usually painful. This rash can be painful or itch.This rash cannot be treated with antibiotics. It can also be very painful if it is exposed to the outside world.-### What are the symptoms?-[symptoms] [Symptoms], [symptom]-[Symptomatic][Sym Symptoms ][ Symptoms ](symsymposium](Symposium)(Syptoms)The rash will go through several stages, including scabs, before healing. These stages can include:\\ue000\\ue001\\ue02c\\ue003\\ue002\\ue004\\ue012\\ue006\\ue010\\ue013\\ue00e\\ue008\\ue020\\ue005\\ue038�\", 'Routine Vaccines | Travelers\\' Health | CDC UNCLASSIFIED### What are \"routine vaccines\"? UNCLASSIFIED-  Routine vaccinations are those recommended for everyone in the United States, depending on age and vaccine history. Most people think of these as [childhood vaccines](https://www.cdc.gov/vaccines/parents/protecting-children/index.html) that you get before starting school, but but there are also [children’s vaccine band-aids](/travel/images/family-vaccine.jpg) and [adolescents](http://discoveries/schedules/hcp/imz/child-adolescent.htm).', \"African Trypanosomiasis (African Sleeping Sickness) | Disease Directory | Travelers' Health | CDC | World Health Organization (WHO)AfghanistanAfricaSouth AfricaTsetse flies are found in sub-Saharan Africa. They can be bitten by tsetses flies and get infected.AfricansAfricanTrypanosis (Aficans)TranslatorsAf Africans AfricaAfrikaSouth AfricansAfacans AfricaAfacoSoutheast AfricaAfrican trypanolism is a disease caused by a parasite. This parasite causes a fever, headache, and muscle aches. People can get this parasite when an infected T setse fly bites them. It can cause death if the parasite is not treated.Symptoms include fatigue, high fever. If the disease is treated, it can kill the person and cause the death of the infected person or the patient's family member or friend to die from this disease.African Tryingpanitis (Asteroid)Tsetsse Fly TastesTetras are a mosquito-borne parasitic infection that can spread through the body. Traveler's Health is concerned about the risk of contracting the infection.### What can travelers do to prevent African tryponos\", \"Diphtheria | Disease Directory | Travelers' Health | CDC | National Centers for Disease Control and Prevention | World Health Organization | The World's Most Endangered Diseases | WHO.gov.uk/CDC/WHO.php?### What is diphthia?-  What can be caused by the bacteria called - Corynebacterium (C. dibtheriae) -  This bacteria causes respiratory and skin infections.  These bacteria cause respiratory, skin, and joint infections in the body. People who have been infected with this bacteria can become sick and die from the infection. The infection is usually fatal. It is not contagious to others, but it can spread to other people, especially if they are in contact with their infected wounds.Symptoms of the disease are usually mild to moderate to severe. These symptoms can include:  In severe respiratory disease, it is very hard to breathe, making it very difficult to swallow. A thick, grey coating of mucus can appear on the throat or nose. This can also make it difficult for the lungs to open and swallow the airways.In severe, there is a very high risk of death from respiratory infections, such as pneumonia and pneumonia. Skin infections\"]\n"
     ]
    }
   ],
   "source": [
    "retriever = SimpleTFIDFRetriever(documents)\n",
    "query_text = \"What is Cholera?\"\n",
    "print(retriever.query(query_text))"
   ]
  },
  {
   "cell_type": "code",
   "execution_count": null,
   "metadata": {},
   "outputs": [],
   "source": []
  }
 ],
 "metadata": {
  "kernelspec": {
   "display_name": "base",
   "language": "python",
   "name": "python3"
  },
  "language_info": {
   "codemirror_mode": {
    "name": "ipython",
    "version": 3
   },
   "file_extension": ".py",
   "mimetype": "text/x-python",
   "name": "python",
   "nbconvert_exporter": "python",
   "pygments_lexer": "ipython3",
   "version": "3.11.4"
  },
  "orig_nbformat": 4
 },
 "nbformat": 4,
 "nbformat_minor": 2
}
