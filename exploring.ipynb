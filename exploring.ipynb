{
 "cells": [
  {
   "cell_type": "code",
   "execution_count": 11,
   "metadata": {},
   "outputs": [],
   "source": [
    "import os\n",
    "import sys\n",
    "import json\n",
    "\n",
    "import torch\n",
    "import torch.nn as nn\n",
    "import torch.optim as optim\n",
    "import torch.utils.data as data\n",
    "import math\n",
    "import copy\n",
    "\n",
    "# current_dir = os.path.dirname(os.path.realpath(__file__))\n",
    "sys.path.append('lib') \n",
    "\n",
    "from lib.dataset import load_dataset, construct_raw_dataset\n",
    "from lib.training import load_config, init_configs\n",
    "\n",
    "from sentence_transformers import SentenceTransformer, util"
   ]
  },
  {
   "cell_type": "code",
   "execution_count": 2,
   "metadata": {},
   "outputs": [
    {
     "name": "stderr",
     "output_type": "stream",
     "text": [
      "Loading dataset: 100%|██████████| 9/9 [00:00<00:00, 93.29it/s]\n"
     ]
    }
   ],
   "source": [
    "conf_file = \"conf/config_ppo_contrastive_m2.json\"\n",
    "    \n",
    "config = load_config(conf_file)\n",
    "dataset = construct_raw_dataset(config)"
   ]
  },
  {
   "cell_type": "code",
   "execution_count": 9,
   "metadata": {},
   "outputs": [
    {
     "name": "stdout",
     "output_type": "stream",
     "text": [
      "name of the symptom\n",
      "intensity of symptom\n",
      "specific attributes of the symptom\n",
      "When did the symptom appear\n",
      "previous treatments\n",
      "reaction to previous treaments\n",
      "behaviour affecting the symptom\n",
      "name of the symptom\n",
      "intensity of symptom\n",
      "specific attributes of the symptom\n",
      "When did the symptom appear\n",
      "previous treatments\n",
      "reaction to previous treaments\n",
      "behaviour affecting the symptom\n",
      "name of the symptom\n",
      "intensity of symptom\n",
      "specific attributes of the symptom\n",
      "When did the symptom appear\n",
      "previous treatments\n",
      "reaction to previous treaments\n",
      "behaviour affecting the symptom\n"
     ]
    }
   ],
   "source": [
    "def parse_symptom(symptom):\n",
    "    symptom[]\n",
    "    for k in symptom:\n",
    "        symtom[k]\n",
    "\n",
    "def parse_guideline(guideline):\n",
    "    json_obj = json.loads(guideline)\n",
    "\n",
    "    for s in json_obj[\"symptoms\"]:\n",
    "        parse_symptom(s)\n",
    "\n",
    "parse_guideline(dataset[\"text\"][0])"
   ]
  },
  {
   "cell_type": "code",
   "execution_count": 4,
   "metadata": {},
   "outputs": [
    {
     "data": {
      "text/plain": [
       "{'symptoms': [{'name of the symptom': 'abnormal hematological values',\n",
       "   'intensity of symptom': '',\n",
       "   'specific attributes of the symptom': {'location': '',\n",
       "    'Quality of': 'low serum iron, ferritin, and iron binding capacity; decreased MCV and hemoglobin levels',\n",
       "    'temporalisation': ''},\n",
       "   'When did the symptom appear': '',\n",
       "   'previous treatments': 'attempts at increasing dietary iron intake',\n",
       "   'reaction to previous treaments': 'persisting hematological abnormalities',\n",
       "   'behaviour affecting the symptom': ''},\n",
       "  {'name of the symptom': 'anthropometric growth issues',\n",
       "   'intensity of symptom': '',\n",
       "   'specific attributes of the symptom': {'location': '',\n",
       "    'Quality of': '',\n",
       "    'temporalisation': ''},\n",
       "   'When did the symptom appear': '',\n",
       "   'previous treatments': '',\n",
       "   'reaction to previous treaments': '',\n",
       "   'behaviour affecting the symptom': 'exclusive consumption of non-fortified plant-based products'},\n",
       "  {'name of the symptom': 'neurodevelopmental issues',\n",
       "   'intensity of symptom': '',\n",
       "   'specific attributes of the symptom': {'location': '',\n",
       "    'Quality of': '',\n",
       "    'temporalisation': ''},\n",
       "   'When did the symptom appear': '',\n",
       "   'previous treatments': '',\n",
       "   'reaction to previous treaments': '',\n",
       "   'behaviour affecting the symptom': 'exclusive consumption of non-fortified plant-based products'}],\n",
       " 'socio economic context': {},\n",
       " 'geographic_context': {'location': '',\n",
       "  'recent travels': '',\n",
       "  'level of care': ''},\n",
       " 'physiological context': {},\n",
       " 'psychological context': {},\n",
       " 'personal medical_history': {'history of dietary restrictions': 'exclusive consumption of non-fortified plant-based products'},\n",
       " 'family medical_history': {},\n",
       " 'current medication': {},\n",
       " 'lifestyle factors': {},\n",
       " 'results of recent medical tests': {'abnormal hematological values': 'low serum iron, ferritin, and iron binding capacity; decreased MCV and hemoglobin levels'}}"
      ]
     },
     "execution_count": 4,
     "metadata": {},
     "output_type": "execute_result"
    }
   ],
   "source": [
    "json.loads(dataset[\"text\"][0])"
   ]
  },
  {
   "cell_type": "code",
   "execution_count": 5,
   "metadata": {},
   "outputs": [
    {
     "data": {
      "application/vnd.jupyter.widget-view+json": {
       "model_id": "b029b11b1be345e98de8468fcc172eb6",
       "version_major": 2,
       "version_minor": 0
      },
      "text/plain": [
       ".gitattributes:   0%|          | 0.00/1.18k [00:00<?, ?B/s]"
      ]
     },
     "metadata": {},
     "output_type": "display_data"
    },
    {
     "data": {
      "application/vnd.jupyter.widget-view+json": {
       "model_id": "d9a543705599469ca043a7a0140d8054",
       "version_major": 2,
       "version_minor": 0
      },
      "text/plain": [
       "1_Pooling/config.json:   0%|          | 0.00/190 [00:00<?, ?B/s]"
      ]
     },
     "metadata": {},
     "output_type": "display_data"
    },
    {
     "data": {
      "application/vnd.jupyter.widget-view+json": {
       "model_id": "332b2e3414c74e1e968648e56b89f8fe",
       "version_major": 2,
       "version_minor": 0
      },
      "text/plain": [
       "README.md:   0%|          | 0.00/10.6k [00:00<?, ?B/s]"
      ]
     },
     "metadata": {},
     "output_type": "display_data"
    },
    {
     "data": {
      "application/vnd.jupyter.widget-view+json": {
       "model_id": "80332a3156ab476eae4f880fbd34ed37",
       "version_major": 2,
       "version_minor": 0
      },
      "text/plain": [
       "config.json:   0%|          | 0.00/612 [00:00<?, ?B/s]"
      ]
     },
     "metadata": {},
     "output_type": "display_data"
    },
    {
     "data": {
      "application/vnd.jupyter.widget-view+json": {
       "model_id": "0be38f928f4a4267a32a5dbbab6c0783",
       "version_major": 2,
       "version_minor": 0
      },
      "text/plain": [
       "config_sentence_transformers.json:   0%|          | 0.00/116 [00:00<?, ?B/s]"
      ]
     },
     "metadata": {},
     "output_type": "display_data"
    },
    {
     "data": {
      "application/vnd.jupyter.widget-view+json": {
       "model_id": "66100e5d3b4943a98705c7527d0816f9",
       "version_major": 2,
       "version_minor": 0
      },
      "text/plain": [
       "data_config.json:   0%|          | 0.00/39.3k [00:00<?, ?B/s]"
      ]
     },
     "metadata": {},
     "output_type": "display_data"
    },
    {
     "data": {
      "application/vnd.jupyter.widget-view+json": {
       "model_id": "afd5d144877b4810a591eaf2a9a51b57",
       "version_major": 2,
       "version_minor": 0
      },
      "text/plain": [
       "pytorch_model.bin:   0%|          | 0.00/90.9M [00:00<?, ?B/s]"
      ]
     },
     "metadata": {},
     "output_type": "display_data"
    },
    {
     "data": {
      "application/vnd.jupyter.widget-view+json": {
       "model_id": "2261706d53fd42acbafb3c26fc82b19b",
       "version_major": 2,
       "version_minor": 0
      },
      "text/plain": [
       "sentence_bert_config.json:   0%|          | 0.00/53.0 [00:00<?, ?B/s]"
      ]
     },
     "metadata": {},
     "output_type": "display_data"
    },
    {
     "data": {
      "application/vnd.jupyter.widget-view+json": {
       "model_id": "231f8143f9774b05a30593b44081c554",
       "version_major": 2,
       "version_minor": 0
      },
      "text/plain": [
       "special_tokens_map.json:   0%|          | 0.00/112 [00:00<?, ?B/s]"
      ]
     },
     "metadata": {},
     "output_type": "display_data"
    },
    {
     "data": {
      "application/vnd.jupyter.widget-view+json": {
       "model_id": "8931c4a51fd940a089540adfd3a9e5ea",
       "version_major": 2,
       "version_minor": 0
      },
      "text/plain": [
       "tokenizer.json:   0%|          | 0.00/466k [00:00<?, ?B/s]"
      ]
     },
     "metadata": {},
     "output_type": "display_data"
    },
    {
     "data": {
      "application/vnd.jupyter.widget-view+json": {
       "model_id": "7922a70086d2441cbf059b301c3f077d",
       "version_major": 2,
       "version_minor": 0
      },
      "text/plain": [
       "tokenizer_config.json:   0%|          | 0.00/350 [00:00<?, ?B/s]"
      ]
     },
     "metadata": {},
     "output_type": "display_data"
    },
    {
     "data": {
      "application/vnd.jupyter.widget-view+json": {
       "model_id": "d2afcf12800b43a28e13d9536730116a",
       "version_major": 2,
       "version_minor": 0
      },
      "text/plain": [
       "train_script.py:   0%|          | 0.00/13.2k [00:00<?, ?B/s]"
      ]
     },
     "metadata": {},
     "output_type": "display_data"
    },
    {
     "data": {
      "application/vnd.jupyter.widget-view+json": {
       "model_id": "7f8a1d59239f491d88bd8179794214a8",
       "version_major": 2,
       "version_minor": 0
      },
      "text/plain": [
       "vocab.txt:   0%|          | 0.00/232k [00:00<?, ?B/s]"
      ]
     },
     "metadata": {},
     "output_type": "display_data"
    },
    {
     "data": {
      "application/vnd.jupyter.widget-view+json": {
       "model_id": "6e605e3f686340c5a971f63519b7d7fb",
       "version_major": 2,
       "version_minor": 0
      },
      "text/plain": [
       "modules.json:   0%|          | 0.00/349 [00:00<?, ?B/s]"
      ]
     },
     "metadata": {},
     "output_type": "display_data"
    }
   ],
   "source": [
    "model = SentenceTransformer('all-MiniLM-L6-v2')"
   ]
  },
  {
   "cell_type": "code",
   "execution_count": 6,
   "metadata": {},
   "outputs": [],
   "source": [
    "query_embedding = model.encode('How big is London')"
   ]
  },
  {
   "cell_type": "code",
   "execution_count": 24,
   "metadata": {},
   "outputs": [
    {
     "data": {
      "text/plain": [
       "384"
      ]
     },
     "execution_count": 24,
     "metadata": {},
     "output_type": "execute_result"
    }
   ],
   "source": [
    "len(query_embedding)"
   ]
  },
  {
   "cell_type": "code",
   "execution_count": 17,
   "metadata": {},
   "outputs": [
    {
     "data": {
      "text/plain": [
       "DistilBertConfig {\n",
       "  \"activation\": \"gelu\",\n",
       "  \"attention_dropout\": 0.1,\n",
       "  \"dim\": 768,\n",
       "  \"dropout\": 0.1,\n",
       "  \"hidden_dim\": 3072,\n",
       "  \"initializer_range\": 0.02,\n",
       "  \"max_position_embeddings\": 512,\n",
       "  \"model_type\": \"distilbert\",\n",
       "  \"n_heads\": 12,\n",
       "  \"n_layers\": 6,\n",
       "  \"pad_token_id\": 0,\n",
       "  \"qa_dropout\": 0.1,\n",
       "  \"seq_classif_dropout\": 0.2,\n",
       "  \"sinusoidal_pos_embds\": false,\n",
       "  \"transformers_version\": \"4.36.0.dev0\",\n",
       "  \"vocab_size\": 30522\n",
       "}"
      ]
     },
     "execution_count": 17,
     "metadata": {},
     "output_type": "execute_result"
    }
   ],
   "source": [
    "config = DistilBertConfig()\n",
    "config"
   ]
  },
  {
   "cell_type": "code",
   "execution_count": 40,
   "metadata": {},
   "outputs": [],
   "source": [
    "from transformers import DistilBertConfig\n",
    "from transformers import DistilBertModel\n",
    "\n",
    "config = DistilBertConfig(hidden_dim=3072)\n",
    "model = DistilBertModel(config)"
   ]
  },
  {
   "cell_type": "code",
   "execution_count": 47,
   "metadata": {},
   "outputs": [],
   "source": [
    "x = torch.rand(3072, 1)\n",
    "y = model.forward(inputs_embeds=x)"
   ]
  },
  {
   "cell_type": "code",
   "execution_count": 53,
   "metadata": {},
   "outputs": [
    {
     "data": {
      "text/plain": [
       "torch.Size([1, 3072, 768])"
      ]
     },
     "execution_count": 53,
     "metadata": {},
     "output_type": "execute_result"
    }
   ],
   "source": [
    "y[\"last_hidden_state\"].shape"
   ]
  },
  {
   "cell_type": "code",
   "execution_count": 54,
   "metadata": {},
   "outputs": [
    {
     "data": {
      "text/plain": [
       "BaseModelOutput(last_hidden_state=tensor([[[ 0.1294,  1.5714,  0.0145,  ..., -0.6828, -0.9734,  0.6301],\n",
       "         [-0.0743,  1.8503,  0.2002,  ..., -0.5326, -0.8381,  0.8112],\n",
       "         [-0.0178,  1.4742,  0.1347,  ..., -0.6600, -0.9165,  0.7027],\n",
       "         ...,\n",
       "         [ 0.0098,  1.8920,  0.7201,  ..., -0.4483, -1.0359,  0.7150],\n",
       "         [ 0.6412,  1.6438, -0.1328,  ..., -0.8716, -1.1969,  0.0380],\n",
       "         [-0.2711,  1.8243,  1.6292,  ..., -0.9189, -0.2998,  0.7378]]],\n",
       "       grad_fn=<NativeLayerNormBackward0>), hidden_states=None, attentions=None)"
      ]
     },
     "execution_count": 54,
     "metadata": {},
     "output_type": "execute_result"
    }
   ],
   "source": [
    "y"
   ]
  }
 ],
 "metadata": {
  "kernelspec": {
   "display_name": "base",
   "language": "python",
   "name": "python3"
  },
  "language_info": {
   "codemirror_mode": {
    "name": "ipython",
    "version": 3
   },
   "file_extension": ".py",
   "mimetype": "text/x-python",
   "name": "python",
   "nbconvert_exporter": "python",
   "pygments_lexer": "ipython3",
   "version": "3.10.9"
  }
 },
 "nbformat": 4,
 "nbformat_minor": 2
}
