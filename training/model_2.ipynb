{
 "cells": [
  {
   "cell_type": "code",
   "execution_count": null,
   "id": "initial_id",
   "metadata": {
    "collapsed": true
   },
   "outputs": [],
   "source": [
    "import numpy as np\n",
    "from lib.pipeline import *\n",
    "from lib.block import *\n",
    "from lib.training import *"
   ]
  },
  {
   "cell_type": "code",
   "execution_count": null,
   "outputs": [],
   "source": [
    "Model1 = LocalTransformer(name=\"Model 1 : Patient Structuriser\", model_name=\"mistralai/Mistral-7B-Instruct-v0.1\", output_json=\"/home/sallinen/Programmation/minimeditron/data/structure/pipelines/pipeline_1.json\")"
   ],
   "metadata": {
    "collapsed": false
   },
   "id": "4b07829a941756d4"
  },
  {
   "cell_type": "code",
   "execution_count": null,
   "outputs": [],
   "source": [
    "Model2 = LocalTransformer(name=\"Model 2 : Diagnoser\", output_json=\"/home/sallinen/Programmation/minimeditron/data/structure/pipelines/pipeline_2.json\")"
   ],
   "metadata": {
    "collapsed": false
   },
   "id": "83e658807817081a"
  },
  {
   "cell_type": "code",
   "execution_count": null,
   "outputs": [],
   "source": [
    "Model3 = LocalTransformer(name=\"Model 3 : Treatment\", output_json=\"/home/sallinen/Programmation/minimeditron/data/structure/pipelines/pipeline_3.json\")"
   ],
   "metadata": {
    "collapsed": false
   },
   "id": "1a4c2f708d55dab5"
  },
  {
   "cell_type": "code",
   "execution_count": null,
   "outputs": [],
   "source": [
    "Model4 = LocalTransformer(name=\"Model 4 : Report maker\", model_name=\"mistralai/Mistral-7B-Instruct-v0.1\", output_json=\"/home/sallinen/Programmation/minimeditron/data/structure/pipelines/pipeline_4.json\")\n"
   ],
   "metadata": {
    "collapsed": false
   },
   "id": "33c2b10b093f20fb"
  },
  {
   "cell_type": "code",
   "execution_count": null,
   "outputs": [],
   "source": [],
   "metadata": {
    "collapsed": false
   },
   "id": "64ffcb53155b2b65"
  }
 ],
 "metadata": {
  "kernelspec": {
   "display_name": "Python 3",
   "language": "python",
   "name": "python3"
  },
  "language_info": {
   "codemirror_mode": {
    "name": "ipython",
    "version": 2
   },
   "file_extension": ".py",
   "mimetype": "text/x-python",
   "name": "python",
   "nbconvert_exporter": "python",
   "pygments_lexer": "ipython2",
   "version": "2.7.6"
  }
 },
 "nbformat": 4,
 "nbformat_minor": 5
}
