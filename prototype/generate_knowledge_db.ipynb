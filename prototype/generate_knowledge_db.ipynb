{
 "cells": [
  {
   "cell_type": "code",
   "execution_count": 1,
   "id": "initial_id",
   "metadata": {
    "collapsed": true,
    "ExecuteTime": {
     "end_time": "2023-10-12T21:44:52.751871231Z",
     "start_time": "2023-10-12T21:44:50.891338451Z"
    }
   },
   "outputs": [],
   "source": [
    "import  lib.block\n",
    "import dspy\n",
    "import numpy as np\n",
    "import json"
   ]
  },
  {
   "cell_type": "code",
   "execution_count": 2,
   "outputs": [],
   "source": [
    "guidelines_structuriser = lib.block.Structuriser(\"../data/structure/pipelines/tasks/diagnostic_task_pipeline.json\")"
   ],
   "metadata": {
    "collapsed": false,
    "ExecuteTime": {
     "end_time": "2023-10-12T21:44:52.770028191Z",
     "start_time": "2023-10-12T21:44:52.751162553Z"
    }
   },
   "id": "3624c1c706145b16"
  },
  {
   "cell_type": "code",
   "execution_count": 3,
   "outputs": [],
   "source": [
    "def read_jsonl(path):\n",
    "    ''' \n",
    "    Read a jsonl file into a list of dictionaries.\n",
    "    '''\n",
    "    with open(path, 'r') as f:\n",
    "        return [json.loads(line)[\"text\"] for line in f]"
   ],
   "metadata": {
    "collapsed": false,
    "ExecuteTime": {
     "end_time": "2023-10-12T21:44:52.770383949Z",
     "start_time": "2023-10-12T21:44:52.754074005Z"
    }
   },
   "id": "c0ad7d24041c6e04"
  },
  {
   "cell_type": "code",
   "execution_count": 4,
   "outputs": [],
   "source": [
    "guideline_aafp = read_jsonl(\"../data/processed/aafp.jsonl\")"
   ],
   "metadata": {
    "collapsed": false,
    "ExecuteTime": {
     "end_time": "2023-10-12T21:44:52.770531615Z",
     "start_time": "2023-10-12T21:44:52.760244393Z"
    }
   },
   "id": "861c47da7a650523"
  },
  {
   "cell_type": "code",
   "execution_count": 5,
   "outputs": [],
   "source": [
    "import openai\n",
    "\n",
    "openai.api_key = open(\"/home/sallinen/Documents/OPENAI_KEY\", \"r\").read().strip()\n"
   ],
   "metadata": {
    "collapsed": false,
    "ExecuteTime": {
     "end_time": "2023-10-12T21:44:52.770637775Z",
     "start_time": "2023-10-12T21:44:52.762957213Z"
    }
   },
   "id": "48fc9c987a986d59"
  },
  {
   "cell_type": "code",
   "execution_count": 25,
   "outputs": [],
   "source": [
    "turbo = dspy.OpenAI(model=\"gpt-3.5-turbo-0613\", max_tokens=2000, model_type=\"chat\")\n",
    "dspy.settings.configure(lm=turbo)"
   ],
   "metadata": {
    "collapsed": false,
    "ExecuteTime": {
     "end_time": "2023-10-13T15:08:29.430269109Z",
     "start_time": "2023-10-13T15:08:29.429882325Z"
    }
   },
   "id": "4e1a4edac6bfcf50"
  },
  {
   "cell_type": "code",
   "execution_count": 28,
   "outputs": [
    {
     "data": {
      "text/plain": "Prediction(\n    completed_structure=\"Guideline: Annual EKGs for Low-risk Patients # Recommendation Don't order annual electrocardiograms (EKGs) or any other cardiac screening for low-risk patients without symptoms. - There is little evidence that detection of coronary artery stenosis in asymptomatic patients at low-risk for coronary heart disease improves health outcomes. - False-positive tests are likely to lead to harm through unnecessary invasive procedures, over-treatment, and misdiagnosis. - Potential harms of this routine annual screening exceed the potential benefit.\\nStructure: {'Condition': '', 'Symptoms list': [], 'Contextual info': {'Factors affecting diagnostic': []}, 'Additional test to decide between diagnosis': '', 'Related diagnosis': []}\\nCompleted Structure: {'Condition': '', 'Symptoms list': [], 'Contextual info': {'Factors affecting diagnostic': []}, 'Additional test to decide between diagnosis': '', 'Related diagnosis': []}\"\n)"
     },
     "execution_count": 28,
     "metadata": {},
     "output_type": "execute_result"
    }
   ],
   "source": [
    "guidelines_structuriser(guideline_aafp[2], temperature= 0.16)\n"
   ],
   "metadata": {
    "collapsed": false,
    "ExecuteTime": {
     "end_time": "2023-10-13T15:16:58.720410473Z",
     "start_time": "2023-10-13T15:16:53.611347743Z"
    }
   },
   "id": "c59233009066ea9e"
  },
  {
   "cell_type": "code",
   "execution_count": null,
   "outputs": [],
   "source": [],
   "metadata": {
    "collapsed": false
   },
   "id": "c5b67bde285b8a3"
  }
 ],
 "metadata": {
  "kernelspec": {
   "display_name": "Python 3",
   "language": "python",
   "name": "python3"
  },
  "language_info": {
   "codemirror_mode": {
    "name": "ipython",
    "version": 2
   },
   "file_extension": ".py",
   "mimetype": "text/x-python",
   "name": "python",
   "nbconvert_exporter": "python",
   "pygments_lexer": "ipython2",
   "version": "2.7.6"
  }
 },
 "nbformat": 4,
 "nbformat_minor": 5
}
