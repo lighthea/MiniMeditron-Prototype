{
 "cells": [
  {
   "cell_type": "code",
   "execution_count": 2,
   "outputs": [],
   "source": [
    "from dspy.teleprompt import BootstrapFewShot\n",
    "from datasets import load_dataset\n",
    "import json"
   ],
   "metadata": {
    "collapsed": false,
    "ExecuteTime": {
     "end_time": "2023-10-04T09:21:45.102112547Z",
     "start_time": "2023-10-04T09:21:45.058291229Z"
    }
   },
   "id": "d9aa17896528aae0"
  },
  {
   "cell_type": "markdown",
   "source": [
    "## Classical Training setup : Dataset with holes\n",
    "\n",
    "\n",
    "In this classical setup we have a structured raw data dataset and generate a full dataset by removing parts of the structured data and training the model to output the missing parts.\n",
    "As the data is structured we can aime for a single part of the data to be missing at a time."
   ],
   "metadata": {
    "collapsed": false
   },
   "id": "f4e256fe7319c90d"
  },
  {
   "cell_type": "code",
   "execution_count": 8,
   "id": "initial_id",
   "metadata": {
    "collapsed": true,
    "ExecuteTime": {
     "end_time": "2023-10-04T09:32:36.365918619Z",
     "start_time": "2023-10-04T09:32:36.324442284Z"
    }
   },
   "outputs": [
    {
     "data": {
      "text/plain": "[{'Disease Name': 'African Tick Bite Fever',\n  'Symptoms': [{'Symptom Name': 'Eschar',\n    'Symptom Description': 'A red sore that develops a dark crust at the site of tick bite. Multiple eschars may be present if there are multiple tick bites.',\n    'Disease stage': 'Early stage'},\n   {'Symptom Name': 'Fever',\n    'Symptom Description': 'Elevated body temperature, often accompanied by chills and sweating.',\n    'Disease stage': 'Later stage'},\n   {'Symptom Name': 'Headache',\n    'Symptom Description': 'A continuous or throbbing pain in the head.',\n    'Disease stage': 'Later stage'},\n   {'Symptom Name': 'Muscle Soreness',\n    'Symptom Description': 'Aching or discomfort in muscles, often due to inflammation or injury.',\n    'Disease stage': 'Later stage'},\n   {'Symptom Name': 'Swollen Lymph Nodes',\n    'Symptom Description': 'Enlarged and tender lymph nodes, usually indicating an infection or immune response.',\n    'Disease stage': 'Later stage'},\n   {'Symptom Name': 'Rash',\n    'Symptom Description': 'Visible skin eruption or discoloration, often accompanied by itching or pain.',\n    'Disease stage': 'Later stage'}],\n  'Prevention': ['Know where to expect ticks and avoid grassy, brushy, or wooded areas.',\n   'Treat clothing and gear with products containing 0.5% permethrin.',\n   'Use EPA-registered insect repellents containing DEET, picaridin, IR3535, Oil of Lemon Eucalyptus (OLE), para-menthane-diol (PMD), or 2-undecanone.',\n   'Avoid contact with ticks by walking in the center of trails and checking for ticks on clothing, pets, and gear.',\n   'Shower within two hours of coming indoors and conduct a full body check for ticks.',\n   'Remove attached ticks as soon as possible.'],\n  'Treatment': []},\n {'Disease Name': 'African Trypanosomiasis (African Sleeping Sickness)',\n  'Symptoms': [{'Symptom Name': 'Fatigue',\n    'Symptom Description': 'A state of extreme tiredness and lack of energy.'},\n   {'Symptom Name': 'High Fever',\n    'Symptom Description': 'An abnormally elevated body temperature, often indicating an infection or illness.'},\n   {'Symptom Name': 'Headaches',\n    'Symptom Description': 'A continuous or throbbing pain in the head.'},\n   {'Symptom Name': 'Muscle Aches',\n    'Symptom Description': 'Pain or discomfort in muscles, often due to inflammation or injury.'}],\n  'Prevention': ['Cover exposed skin by wearing long-sleeved shirts, long pants, and hats. Clothing fabric should be at least medium weight to prevent tsetse fly bites.',\n   'Wear neutral-colored clothing as tsetse flies are attracted to bright colors, very dark colors, metallic fabric, particularly blue and black.',\n   'Avoid bushes during the day, as tsetse flies rest in bushes and will bite if disturbed.',\n   'Inspect vehicles for tsetse flies before entering, as they are attracted to the motion and dust from moving vehicles.',\n   'Use insect repellent, although there is limited evidence that it works against tsetse flies. It can still prevent other diseases spread by bug bites.'],\n  'Treatment': []},\n {'Disease Name': 'Avian Flu (Bird Flu)',\n  'Symptoms': [{'Symptom Name': 'Mild Symptoms',\n    'Symptom Description': 'Eye redness (conjunctivitis), cough, sore throat, runny or stuffy nose, muscle or body aches, headaches, tiredness.'},\n   {'Symptom Name': 'Severe Symptoms',\n    'Symptom Description': 'High fever, shortness of breath, difficulty breathing. Severe cases can lead to pneumonia.'},\n   {'Symptom Name': 'Less Common Symptoms',\n    'Symptom Description': 'Diarrhea, nausea, vomiting, seizures.'}],\n  'Prevention': ['Avoid visiting poultry farms, live animal markets, and other places where live poultry are raised, kept, slaughtered, or sold. If necessary, wear a well-fitting facemask and avoid touching poultry or other birds.',\n   'If visiting wetlands or outdoor places where birds live, take steps to avoid germs during and after the visit.',\n   'Avoid touching sick or dead wild birds or poultry.',\n   'Wash hands often with soap and water for at least 20 seconds, especially after contact with birds or places where birds are kept. If soap and water are not available, use hand sanitizer with at least 60% alcohol.',\n   'Avoid touching eyes, nose, or mouth with unclean hands.',\n   'Avoid close contact with sick people, such as kissing, hugging, or sharing eating utensils or cups.'],\n  'Treatment': []}]"
     },
     "execution_count": 8,
     "metadata": {},
     "output_type": "execute_result"
    }
   ],
   "source": [
    "structured_data_file = \"../data/structured_data.json\"\n",
    "structured_data = json.load(open(structured_data_file))[\"Guidelines\"]\n",
    "structured_data"
   ]
  },
  {
   "cell_type": "markdown",
   "source": [
    "We need to choose a random part of the data to be missing at a time. We can do this by choosing a random index and then removing the corresponding part of the data."
   ],
   "metadata": {
    "collapsed": false
   },
   "id": "d9e6c4401280cc2d"
  },
  {
   "cell_type": "code",
   "execution_count": 9,
   "outputs": [],
   "source": [
    "#We need to choose a random part of the data to be missing at a time. We can do this by choosing a random index and then removing the corresponding part of the data.\n",
    "import copy\n",
    "import random\n",
    "random.seed(42)\n",
    "\n",
    "def blank_out_value(json_obj, target_key, mask_token=\"[MASK]\"):\n",
    "    \"\"\"\n",
    "    Recursively blanks out the target_key in the json_obj.\n",
    "    \n",
    "    :param json_obj: The JSON object to modify\n",
    "    :param target_key: The key to blank out\n",
    "    :param mask_token: The token to replace the target_key with\n",
    "    :return: a modified copy of the JSON object\n",
    "    \"\"\"\n",
    "    modified_obj = copy.deepcopy(json_obj)\n",
    "    \n",
    "    if isinstance(modified_obj, dict):\n",
    "        # If the object is a dictionary, randomly blank out the target_key in its values\n",
    "        rand_key = random.choice(list(modified_obj.keys()))\n",
    "        modified_obj[rand_key] = blank_out_value(modified_obj[rand_key], target_key)\n",
    "        \n",
    "    elif isinstance(modified_obj, list):\n",
    "        # If the object is a list, blank out a random target_key in its elements\n",
    "        # Choose a random index to blank out\n",
    "        rand_index = random.randint(0, len(modified_obj[target_key]) - 1)\n",
    "        modified_obj[rand_index] = blank_out_value(modified_obj[rand_index], target_key)\n",
    "\n",
    "    elif isinstance(modified_obj, str) and target_key in modified_obj:\n",
    "        # If the object is a string and matches the target_key, blank out the value\n",
    "        modified_obj = \"mask_token\"\n",
    "    \n",
    "    else:\n",
    "        raise KeyError(f\"The key '{target_key}' does not exist in the JSON object.\")\n",
    "\n",
    "    \n",
    "    return modified_obj"
   ],
   "metadata": {
    "collapsed": false,
    "ExecuteTime": {
     "end_time": "2023-10-04T12:13:34.889893148Z",
     "start_time": "2023-10-04T12:13:34.847932957Z"
    }
   },
   "id": "467ec7936b4d215e"
  },
  {
   "cell_type": "code",
   "execution_count": null,
   "outputs": [],
   "source": [],
   "metadata": {
    "collapsed": false
   },
   "id": "3fe4a35e5e5842e3"
  }
 ],
 "metadata": {
  "kernelspec": {
   "display_name": "Python 3",
   "language": "python",
   "name": "python3"
  },
  "language_info": {
   "codemirror_mode": {
    "name": "ipython",
    "version": 2
   },
   "file_extension": ".py",
   "mimetype": "text/x-python",
   "name": "python",
   "nbconvert_exporter": "python",
   "pygments_lexer": "ipython2",
   "version": "2.7.6"
  }
 },
 "nbformat": 4,
 "nbformat_minor": 5
}
