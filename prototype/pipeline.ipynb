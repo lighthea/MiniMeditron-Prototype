{
 "cells": [
  {
   "attachments": {},
   "cell_type": "markdown",
   "metadata": {},
   "source": [
    "# Pipeline\n",
    "\n",
    "We assume the models have been trained"
   ]
  },
  {
   "cell_type": "code",
   "execution_count": 1,
   "metadata": {},
   "outputs": [],
   "source": [
    "import sys\n",
    "sys.path.append('../scripts')\n",
    "sys.path.append('../metrics')\n",
    "\n",
    "from preprocess_for_mistral import *\n",
    "\n",
    "from helper_metrics import *"
   ]
  },
  {
   "cell_type": "markdown",
   "metadata": {},
   "source": [
    "Input = the patient decription"
   ]
  },
  {
   "cell_type": "code",
   "execution_count": 2,
   "metadata": {},
   "outputs": [],
   "source": [
    "input = '''The patient, a 45-year-old male, presents with a history of persistent ear pain, hearing loss, and frequent episodes of ear infections. He reports a sensation of a lump in his throat and difficulty swallowing. He also complains of frequent headaches and occasional nosebleeds. He has a history of smoking and excessive alcohol consumption. On examination, a deep recess was noted behind the ostium of the auditory tube. The patient also revealed a swollen lymph node at the base of this recess. Despite previous treatments with antibiotics for the ear infections, the symptoms persist. \n",
    "Fill the following structure accordingly. Don't change it.\n",
    "If the information is not given, don't write anything, leave it as an empty section.\n",
    "If an information is true for multiple symptoms, repeat the information.\n",
    "Only answer with the filled structure.\n",
    "\n",
    "{\n",
    "  \"symptoms\": [\n",
    "    {\n",
    "      \"name of the symptom\": \"\",\n",
    "      \"intensity of symptom\": \"\",\n",
    "      \"specific attributes of the symptom\": {\n",
    "        \"location\": \"\",\n",
    "        \"size\": \"\",\n",
    "        \"color\": \"\",\n",
    "        \"frequency\": \"\"\n",
    "      },\n",
    "      \"When did the symptom appear \": \"\",\n",
    "      \"previous treatments\": \"\",\n",
    "      \"reaction to previous treaments\"\n",
    "      \"behaviour affecting the symptom\": \"\"\n",
    "    }\n",
    "  ],\n",
    "  \"socio economic context\": {\n",
    "    // the social and economic context of the patient\n",
    "  },\n",
    "  \"geographic_context\": {\n",
    "      \"recent travels\": \"\",\n",
    "      \"level of care\": \"\"\n",
    "  },\n",
    "  \"physiological context\": {\n",
    "    // any other physiological info of the patient\n",
    "  },\n",
    "  \"psychological context\": {\n",
    "    // any psychological info of the patient\n",
    "  },\n",
    "  \"personal medical_history\": {\n",
    "    // the medical history of the patient\n",
    "  },\n",
    "  \"family medical_history\": {\n",
    "    // the medical history of family\n",
    "  },\n",
    "  \"current medication\": {\n",
    "\n",
    "  },\n",
    "  \"lifestyle factors\": {\n",
    "    \"smoking\": \"\",\n",
    "    \"alcohol\": \"\",\n",
    "    \"illegal drugs\": \"\",\n",
    "    \"physical activity\": \"\",\n",
    "  },\n",
    "  \"recent medical tests\": {\n",
    "\n",
    "  }\n",
    "}\n",
    "'''\n",
    "\n",
    "true_label = '''Pharyngeal recess'''"
   ]
  },
  {
   "attachments": {},
   "cell_type": "markdown",
   "metadata": {},
   "source": [
    "Input_2 = input given to mistral 7B to structure the patient description (pipeline_1.json)\n"
   ]
  },
  {
   "cell_type": "code",
   "execution_count": 3,
   "metadata": {},
   "outputs": [
    {
     "name": "stdout",
     "output_type": "stream",
     "text": [
      "Process timed out and was terminated.\n"
     ]
    }
   ],
   "source": [
    "input_processed = remove_newlines(input)\n",
    "\n",
    "save_to_file(input_processed, 'output.txt')\n",
    "\n",
    "input_2 = run_mistral_with_input(input_processed)"
   ]
  },
  {
   "attachments": {},
   "cell_type": "markdown",
   "metadata": {},
   "source": [
    "Output = input_2 given to NanoGPT/gpt2 finetuned (with proper metrics) to obtain a structure of the form diagnostic.json\n"
   ]
  },
  {
   "cell_type": "code",
   "execution_count": 7,
   "metadata": {},
   "outputs": [],
   "source": [
    "# import the nanogpt model \n",
    "\n",
    "# output, embeddings = run_model(model, input_2)"
   ]
  },
  {
   "attachments": {},
   "cell_type": "markdown",
   "metadata": {},
   "source": [
    "Evaluate the output using the metrics"
   ]
  },
  {
   "cell_type": "code",
   "execution_count": 18,
   "metadata": {},
   "outputs": [],
   "source": [
    "# assume we have the output from the model\n",
    "\n",
    "# embeddings\n",
    "# ground_thruth_embeddings = get_embeddings(model, true_label) \n",
    "# distance = tensor_distance(embeddings, ground_thruth_embeddings)\n",
    "\n",
    "# handcrafted\n",
    "# condition, related_conditions = load_and_retreive(output)\n",
    "# classification = classify_condition(condition, ground_truth, related_conditions, THRESHOLD)\n",
    "# print(\"Classification :\", classification)\n"
   ]
  },
  {
   "cell_type": "code",
   "execution_count": null,
   "metadata": {},
   "outputs": [],
   "source": []
  }
 ],
 "metadata": {
  "kernelspec": {
   "display_name": "base",
   "language": "python",
   "name": "python3"
  },
  "language_info": {
   "codemirror_mode": {
    "name": "ipython",
    "version": 3
   },
   "file_extension": ".py",
   "mimetype": "text/x-python",
   "name": "python",
   "nbconvert_exporter": "python",
   "pygments_lexer": "ipython3",
   "version": "3.11.4"
  },
  "orig_nbformat": 4
 },
 "nbformat": 4,
 "nbformat_minor": 2
}
