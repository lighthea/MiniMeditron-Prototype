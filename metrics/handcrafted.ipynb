{
 "cells": [
  {
   "attachments": {},
   "cell_type": "markdown",
   "metadata": {},
   "source": [
    "# Handcrafted"
   ]
  },
  {
   "attachments": {},
   "cell_type": "markdown",
   "metadata": {},
   "source": [
    "From the diagnostic task pipeline : \n",
    "\n",
    "- Correct condition\n",
    "- Related condition\n",
    "- Unrelated condition"
   ]
  },
  {
   "cell_type": "code",
   "execution_count": 93,
   "metadata": {},
   "outputs": [],
   "source": [
    "import json\n",
    "import os\n",
    "import pandas as pd\n",
    "import matplotlib.pyplot as plt\n",
    "from helper_metrics import *"
   ]
  },
  {
   "attachments": {},
   "cell_type": "markdown",
   "metadata": {},
   "source": [
    "# JSON example\n",
    "\n",
    "Assume that for there is a json file outputed for each condition (meaning if several conditions are found, multiple cases are generated)"
   ]
  },
  {
   "cell_type": "code",
   "execution_count": 85,
   "metadata": {},
   "outputs": [],
   "source": [
    "# CONSTANTS AND VARIABLES\n",
    "ground_truth = \"cholera\"\n",
    "json_file = \"diagnostic_task_pipeline_example.json\"\n",
    "THRESHOLD = 80"
   ]
  },
  {
   "cell_type": "code",
   "execution_count": 89,
   "metadata": {},
   "outputs": [
    {
     "name": "stdout",
     "output_type": "stream",
     "text": [
      "Classification : correct\n"
     ]
    }
   ],
   "source": [
    "condition, related_conditions = load_and_retreive(json_file)\n",
    "\n",
    "classification = classify_condition(condition, ground_truth, related_conditions, THRESHOLD)\n",
    "\n",
    "print(\"Classification :\", classification)"
   ]
  },
  {
   "attachments": {},
   "cell_type": "markdown",
   "metadata": {},
   "source": [
    "# Prompt example"
   ]
  },
  {
   "attachments": {},
   "cell_type": "markdown",
   "metadata": {},
   "source": [
    "If the output is represented in a string format and is not a proper json, we use the regex to locate the informations we want."
   ]
  },
  {
   "cell_type": "code",
   "execution_count": 74,
   "metadata": {},
   "outputs": [],
   "source": [
    "prompt = '''{\n",
    "    \"description\" : \"Extract a diagnosis from a guideline\",\n",
    "    \"type\" : \"guideline\",\n",
    "    \"prompt\" : \"Fill the following structure accordingly. Don't change it.\\nIf the information is not given, don't write anything, leave it as an empty section.\\nIf an information is true for multiple symptoms, repeat the information.\\nOnly answer with the filled structure.\\n\",\n",
    "    \"document_structure\": {\n",
    "      \"Condition\": \"cholera\",\n",
    "      \"Symptoms list\": [],\n",
    "      \"Contextual info\": {\n",
    "        \"Factors affecting diagnostic\": []\n",
    "      },\n",
    "      \"Additional test to decide between diagnosis\": \"\",\n",
    "      \"Related diagnosis\": [\"disease1\", \"disease2\"]\n",
    "    }\n",
    "  }\n",
    "'''"
   ]
  },
  {
   "cell_type": "code",
   "execution_count": 92,
   "metadata": {},
   "outputs": [
    {
     "name": "stdout",
     "output_type": "stream",
     "text": [
      "['disease1', 'disease2']\n",
      "Classification : correct\n"
     ]
    }
   ],
   "source": [
    "condition, related_conditions = retreive_from_string(prompt)\n",
    "\n",
    "classification = classify_condition(condition, ground_truth, related_conditions, THRESHOLD)\n",
    "\n",
    "print(\"Classification :\", classification)"
   ]
  },
  {
   "attachments": {},
   "cell_type": "markdown",
   "metadata": {},
   "source": [
    "# Pipeline"
   ]
  },
  {
   "cell_type": "code",
   "execution_count": null,
   "metadata": {},
   "outputs": [],
   "source": [
    "path = \"json/\"\n",
    "files = os.listdir(path)\n",
    "files = [file for file in files if file.endswith(\".json\")]\n",
    "\n",
    "results = []\n",
    "\n",
    "for file in files:\n",
    "    with open(path + file) as f:\n",
    "        answer = json.load(f)\n",
    "        condition, related_conditions = load_and_retreive(file)\n",
    "        classification = classify_condition(condition, ground_truth, related_conditions, THRESHOLD)\n",
    "        results.append([file, condition, classification])\n",
    "        f.close()\n",
    "\n",
    "# plot the distribution of results\n",
    "df = pd.DataFrame(results, columns = ['file', 'condition', 'classification'])\n",
    "df['classification'].value_counts().plot(kind='bar')\n",
    "plt.show()"
   ]
  }
 ],
 "metadata": {
  "kernelspec": {
   "display_name": "base",
   "language": "python",
   "name": "python3"
  },
  "language_info": {
   "codemirror_mode": {
    "name": "ipython",
    "version": 3
   },
   "file_extension": ".py",
   "mimetype": "text/x-python",
   "name": "python",
   "nbconvert_exporter": "python",
   "pygments_lexer": "ipython3",
   "version": "3.11.4"
  },
  "orig_nbformat": 4
 },
 "nbformat": 4,
 "nbformat_minor": 2
}
