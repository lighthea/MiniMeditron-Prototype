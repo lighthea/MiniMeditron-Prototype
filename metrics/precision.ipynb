{
 "cells": [
  {
   "attachments": {},
   "cell_type": "markdown",
   "metadata": {},
   "source": [
    "# Precision"
   ]
  },
  {
   "cell_type": "code",
   "execution_count": 2,
   "metadata": {},
   "outputs": [],
   "source": [
    "# imports\n",
    "from helper_metrics import *\n",
    "import json"
   ]
  },
  {
   "attachments": {},
   "cell_type": "markdown",
   "metadata": {},
   "source": [
    "## Working example"
   ]
  },
  {
   "cell_type": "code",
   "execution_count": 3,
   "metadata": {},
   "outputs": [],
   "source": [
    "example_output = '''{\n",
    "    \"task\" : \"diagnosing patients\",\n",
    "    \"desc\" : \"Complete the structure by giving conditions names\",\n",
    "    \"output_structure\" : {\n",
    "                \"Names of Conditions\" : [\"African Tick Bite Fever\", \"Choléra\"]\n",
    "              },\n",
    "    \"expanded_desc\" : \"a diagnostic of a patient described by a conditions names in a structured form\"\n",
    "  }'''\n",
    "\n",
    "ground_truth = \"Cholera\"\n",
    "\n",
    "extracted_conditions = extract_conditions(example_output)"
   ]
  },
  {
   "attachments": {},
   "cell_type": "markdown",
   "metadata": {},
   "source": [
    "**Exact matching**"
   ]
  },
  {
   "cell_type": "code",
   "execution_count": 31,
   "metadata": {},
   "outputs": [
    {
     "name": "stdout",
     "output_type": "stream",
     "text": [
      "No exact matches found.\n"
     ]
    }
   ],
   "source": [
    "matching_positions = exact_matching(ground_truth, extracted_conditions)\n",
    "\n",
    "if matching_positions:\n",
    "    print(f\"Exact matches found at positions: {matching_positions}\")\n",
    "else:\n",
    "    print(\"No exact matches found.\")\n"
   ]
  },
  {
   "attachments": {},
   "cell_type": "markdown",
   "metadata": {},
   "source": [
    "**Fuzzy matching**"
   ]
  },
  {
   "cell_type": "code",
   "execution_count": 32,
   "metadata": {},
   "outputs": [
    {
     "name": "stdout",
     "output_type": "stream",
     "text": [
      "The fuzzy scores are:  [13, 86]\n",
      "Fuzzy match found at position 1 with a similarity score of 86.\n"
     ]
    }
   ],
   "source": [
    "fuzzy_scores, matching_positions_scores = fuzzy_matching(ground_truth, extracted_conditions)\n",
    "\n",
    "print(\"The fuzzy scores are: \", fuzzy_scores)\n",
    "\n",
    "if matching_positions_scores:\n",
    "    for idx, score in matching_positions_scores:\n",
    "        print(f\"Fuzzy match found at position {idx} with a similarity score of {score}.\")\n",
    "else:\n",
    "    print(\"No fuzzy matches found above the threshold.\")"
   ]
  },
  {
   "attachments": {},
   "cell_type": "markdown",
   "metadata": {},
   "source": [
    "## Pipeline"
   ]
  },
  {
   "attachments": {},
   "cell_type": "markdown",
   "metadata": {},
   "source": [
    "Multiple responses -> treat them as multiple cases -> Mistral will generalize and expose treatments for all of them -> Medical Assistant (not doctor) for legal reasons."
   ]
  },
  {
   "attachments": {},
   "cell_type": "markdown",
   "metadata": {},
   "source": [
    "**Duplicate the prompt**"
   ]
  },
  {
   "cell_type": "code",
   "execution_count": 8,
   "metadata": {},
   "outputs": [],
   "source": [
    "import json\n",
    "\n",
    "def split_conditions_into_inputs(example_output, verbose=False):\n",
    "    parsed_data = json.loads(example_output)\n",
    "    conditions = parsed_data['output_structure']['Names of Conditions']\n",
    "\n",
    "    modified_jsons = []\n",
    "    for condition in conditions:\n",
    "        new_data = parsed_data.copy()\n",
    "        new_data['output_structure'] = {\"Condition\": condition}\n",
    "        modified_jsons.append(json.dumps(new_data, indent=4))\n",
    "    \n",
    "    if verbose:\n",
    "        for i, modified_json in enumerate(modified_jsons, 1):\n",
    "            print(f'input_{i} = {modified_json}\\n')\n",
    "    \n",
    "    return modified_jsons"
   ]
  },
  {
   "cell_type": "code",
   "execution_count": 9,
   "metadata": {},
   "outputs": [
    {
     "name": "stdout",
     "output_type": "stream",
     "text": [
      "['{\\n    \"task\": \"diagnosing patients\",\\n    \"desc\": \"Complete the structure by giving conditions names\",\\n    \"output_structure\": {\\n        \"Condition\": \"African Tick Bite Fever\"\\n    },\\n    \"expanded_desc\": \"a diagnostic of a patient described by a conditions names in a structured form\"\\n}', '{\\n    \"task\": \"diagnosing patients\",\\n    \"desc\": \"Complete the structure by giving conditions names\",\\n    \"output_structure\": {\\n        \"Condition\": \"Chol\\\\u00e9ra\"\\n    },\\n    \"expanded_desc\": \"a diagnostic of a patient described by a conditions names in a structured form\"\\n}']\n"
     ]
    }
   ],
   "source": [
    "multiple_prompts = split_conditions_into_inputs(example_output)\n",
    "print(multiple_prompts)"
   ]
  },
  {
   "cell_type": "code",
   "execution_count": null,
   "metadata": {},
   "outputs": [],
   "source": []
  }
 ],
 "metadata": {
  "kernelspec": {
   "display_name": "base",
   "language": "python",
   "name": "python3"
  },
  "language_info": {
   "codemirror_mode": {
    "name": "ipython",
    "version": 3
   },
   "file_extension": ".py",
   "mimetype": "text/x-python",
   "name": "python",
   "nbconvert_exporter": "python",
   "pygments_lexer": "ipython3",
   "version": "3.11.4"
  },
  "orig_nbformat": 4
 },
 "nbformat": 4,
 "nbformat_minor": 2
}
